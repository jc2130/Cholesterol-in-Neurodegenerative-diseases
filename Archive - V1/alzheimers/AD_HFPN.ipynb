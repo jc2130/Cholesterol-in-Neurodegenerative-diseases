{
 "cells": [
  {
   "cell_type": "markdown",
   "metadata": {},
   "source": [
    "# Alzheimers Disease - Hybrid Functional Petri Net\n",
    "This notebook includes the following:\n",
    "- [x] Cholesterol homeostasis\n",
    "- [x] Tau pathology\n",
    "- [x] Abeta pathology\n",
    "- [x] ER retraction and collapse\n",
    "- [x] Energy metabolism\n",
    "- [x] Calcium homeostasis "
   ]
  },
  {
   "cell_type": "code",
   "execution_count": null,
   "metadata": {},
   "outputs": [],
   "source": [
    "import os\n",
    "import sys\n",
    "\n",
    "cwd = os.getcwd()\n",
    "root_folder = os.sep+\"team-project\"\n",
    "sys.path.insert(0, cwd[:(cwd.index(root_folder)+len(root_folder))] + os.sep+\"utils\"+os.sep)\n",
    "from hfpn import HFPN\n",
    "from visualisation import Analysis\n",
    "\n",
    "import AD_HFPN\n",
    "from initial_tokens import *\n",
    "\n",
    "from datetime import datetime"
   ]
  },
  {
   "cell_type": "code",
   "execution_count": null,
   "metadata": {
    "tags": []
   },
   "outputs": [],
   "source": [
    "# Confgure and import sub-networks\n",
    "pn = HFPN(time_step=0.001) # time_step in s\n",
    "AD_HFPN.add_cholesterol_homeostasis(pn)\n",
    "AD_HFPN.add_tau_pathology(pn)\n",
    "AD_HFPN.add_abeta_pathology(pn)\n",
    "AD_HFPN.add_ER_retraction_collapse(pn)\n",
    "AD_HFPN.add_energy_metabolism(pn)\n",
    "AD_HFPN.add_calcium_homeostasis(pn)\n",
    "\n",
    "# Set diseased condition\n",
    "#pn.set_initial_tokens_for('p_ApoE', 1)\n",
    "#pn.set_initial_tokens_for('p_age', 1)\n",
    "#pn.set_initial_tokens_for('p_ApoEchol_extra', it_p_ApoEchol_extra*0.5)\n",
    "\n",
    "# Run network and plot result\n",
    "start_time = datetime.now()\n",
    "pn.run_many_times(1, int(1e4))\n",
    "execution_time = datetime.now() - start_time\n",
    "\n",
    "print('\\n\\nTime to execute:', execution_time)"
   ]
  },
  {
   "cell_type": "code",
   "execution_count": null,
   "metadata": {
    "tags": []
   },
   "outputs": [],
   "source": [
    "analysis = Analysis(pn)\n",
    "for place_id in pn.places.keys(): \n",
    "    analysis.mean_run_tokens_over_time(place_id)"
   ]
  },
  {
   "cell_type": "code",
   "execution_count": null,
   "metadata": {},
   "outputs": [],
   "source": [
    "# Abeta pathology\n",
    "analysis.mean_run_tokens_over_time('p_Ab')\n",
    "analysis.mean_run_tokens_over_time('p_ApoE')\n",
    "analysis.mean_run_tokens_over_time('p_APP_pm')\n",
    "analysis.mean_run_tokens_over_time('p_APP_endo')\n",
    "analysis.mean_run_tokens_over_time('p_bsec')\n",
    "analysis.mean_run_tokens_over_time('p_asec')"
   ]
  },
  {
   "cell_type": "code",
   "execution_count": null,
   "metadata": {},
   "outputs": [],
   "source": [
    "# Tau pathology\n",
    "analysis.mean_run_tokens_over_time('p_tau')\n",
    "analysis.mean_run_tokens_over_time('p_tauP')\n",
    "analysis.mean_run_tokens_over_time('p_GSK3b_act')\n",
    "analysis.mean_run_tokens_over_time('p_GSK3b_inact')"
   ]
  },
  {
   "cell_type": "code",
   "execution_count": null,
   "metadata": {},
   "outputs": [],
   "source": [
    "# Energy metabolism\n",
    "analysis.mean_run_tokens_over_time('p_ROS_mito')\n",
    "analysis.mean_run_tokens_over_time('p_cas3')\n",
    "analysis.mean_run_tokens_over_time('p_reduc_mito')\n",
    "analysis.mean_run_tokens_over_time('p_ATP')\n",
    "analysis.mean_run_tokens_over_time(['p_ADP', \"p_ATP\"])"
   ]
  },
  {
   "cell_type": "code",
   "execution_count": null,
   "metadata": {},
   "outputs": [],
   "source": [
    "pn.token_storage[-1][0]"
   ]
  },
  {
   "cell_type": "code",
   "execution_count": null,
   "metadata": {},
   "outputs": [],
   "source": [
    "# print mean of a place over time\n",
    "# in whole model, ATP is 39 and ADP is 40\n",
    "# ROS is 32\n",
    "import numpy as np\n",
    "i = 0\n",
    "ls = []\n",
    "for i in range(0,100000):\n",
    "    ls.append(pn.token_storage[-1][i][1])\n",
    "print(np.mean(ls))\n",
    "i = 0\n",
    "ls = []\n",
    "for i in range(0,100000):\n",
    "    ls.append(pn.token_storage[-1][i][4])\n",
    "print(np.mean(ls))"
   ]
  },
  {
   "cell_type": "code",
   "execution_count": null,
   "metadata": {},
   "outputs": [],
   "source": [
    "# Calcium homeostasis\n",
    "analysis.mean_run_tokens_over_time('p_Ca_mito')\n",
    "analysis.mean_run_tokens_over_time('p_Ca_cyto')\n",
    "analysis.mean_run_tokens_over_time('p_Ca_ER')\n",
    "analysis.mean_run_tokens_over_time('p_Ca_extra')"
   ]
  },
  {
   "cell_type": "code",
   "execution_count": null,
   "metadata": {},
   "outputs": [],
   "source": [
    "# Cholesterol homeostasis\n",
    "analysis.mean_run_tokens_over_time('p_chol_PM')\n",
    "analysis.mean_run_tokens_over_time('p_chol_mito')\n",
    "analysis.mean_run_tokens_over_time('p_chol_ER')\n",
    "analysis.mean_run_tokens_over_time('p_chol_LE')\n",
    "analysis.mean_run_tokens_over_time('p_27OHchol_intra')\n",
    "analysis.mean_run_tokens_over_time('p_24OHchol_intra')"
   ]
  },
  {
   "cell_type": "code",
   "execution_count": null,
   "metadata": {},
   "outputs": [],
   "source": [
    "# ER retraction/collapse\n",
    "analysis.mean_run_tokens_over_time('p_RTN3_axon')\n",
    "analysis.mean_run_tokens_over_time('p_RTN3_PN')\n",
    "analysis.mean_run_tokens_over_time('p_RTN3_HMW_dys1')\n",
    "analysis.mean_run_tokens_over_time('p_RTN3_HMW_dys2')\n",
    "analysis.mean_run_tokens_over_time('p_RTN3_HMW_lyso')\n",
    "analysis.mean_run_tokens_over_time('p_RTN3_HMW_cyto')\n",
    "analysis.mean_run_tokens_over_time('p_RTN3_HMW_auto')"
   ]
  },
  {
   "cell_type": "code",
   "execution_count": null,
   "metadata": {},
   "outputs": [],
   "source": []
  }
 ],
 "metadata": {
  "kernelspec": {
   "display_name": "Python 3",
   "language": "python",
   "name": "python3"
  },
  "language_info": {
   "codemirror_mode": {
    "name": "ipython",
    "version": 3
   },
   "file_extension": ".py",
   "mimetype": "text/x-python",
   "name": "python",
   "nbconvert_exporter": "python",
   "pygments_lexer": "ipython3",
   "version": "3.7.3"
  }
 },
 "nbformat": 4,
 "nbformat_minor": 4
}
