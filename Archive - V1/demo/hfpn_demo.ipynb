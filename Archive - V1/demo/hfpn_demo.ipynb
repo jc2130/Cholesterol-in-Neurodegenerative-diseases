{
 "cells": [
  {
   "cell_type": "markdown",
   "metadata": {},
   "source": [
    "# Demo implementation of a hybrid functional Petri net (HFPN)"
   ]
  },
  {
   "cell_type": "markdown",
   "metadata": {},
   "source": [
    "This demo achieves the following:\n",
    "- [x] Shows which packages must be imported in order to work with HFPNs.\n",
    "- [x] Shows how to add places\n",
    "- [x] Shows different methods for adding transitions\n",
    "- [x] Demonstrates how to run the HFPN\n",
    "- [x] Shows how to search for places/transitions in your petri-net via key words\n",
    "Things that would be nice to add:\n",
    "- [ ] An example of how to plot selected places\n",
    "- [ ] An example of how to import variables/parameters from a separate script"
   ]
  },
  {
   "cell_type": "markdown",
   "metadata": {},
   "source": [
    "### 1) Import HFPN backbone code (Only one time)"
   ]
  },
  {
   "cell_type": "code",
   "execution_count": 1,
   "metadata": {
    "collapsed": true
   },
   "outputs": [],
   "source": [
    "import os\n",
    "import sys\n",
    "\n",
    "# Only run this cell once to avoid confusion with directories\n",
    "# Point this to the directory where HFPN.py is relative to your working directory\n",
    "cwd = os.getcwd() #Get current directory\n",
    "root_folder = \"team-project\" \n",
    "# Move to 'utils' from current directory position\n",
    "sys.path.insert(0, cwd[:(cwd.index(root_folder)+len(root_folder))] + \"/utils/\") \n",
    "\n",
    "# Import HFPN class to work with hybrid functional Petri nets\n",
    "from hfpn import HFPN"
   ]
  },
  {
   "cell_type": "markdown",
   "metadata": {},
   "source": [
    "## Example: Simple HFPN for $2\\,\\text{H}_2 + \\text{O}_2 \\rightarrow 2 \\,\\text{H}_2 \\text{O}$ with an artificial inhibitor"
   ]
  },
  {
   "cell_type": "markdown",
   "metadata": {},
   "source": [
    "### 2) Initialize an empty HPFN\n",
    "\n",
    "When creating the HFPN, you can specify a value for the time increment in seconds. The default value (if you don't specify a value) is 0.001 seconds, i.e. 1 millisecond. "
   ]
  },
  {
   "cell_type": "code",
   "execution_count": 2,
   "metadata": {
    "collapsed": true
   },
   "outputs": [],
   "source": [
    "# Initialize an empty HFPN\n",
    "pn = HFPN(time_step = 0.001) "
   ]
  },
  {
   "cell_type": "markdown",
   "metadata": {},
   "source": [
    "### 3) Add places to the HFPN\n",
    "Add place for each of the following chemical species:\n",
    "- Hydrogen H2\n",
    "- Oxygen O2\n",
    "- Water H2O\n",
    "- Inhibitor I\n",
    "\n",
    "Each place has 4 attributes:\n",
    "- Initial number of tokens\n",
    "- place_id: this uniquely identifies a place and is given by the agreed naming conventions for places\n",
    "- A label that briefly describes the place\n",
    "- A boolean indicating if the place is continuous or discrete"
   ]
  },
  {
   "cell_type": "code",
   "execution_count": 3,
   "metadata": {
    "collapsed": true
   },
   "outputs": [],
   "source": [
    "pn.add_place(initial_tokens=20, place_id=\"p_H2\", label=\"Hydrogen\", continuous=True)\n",
    "pn.add_place(initial_tokens=10, place_id=\"p_O2\", label=\"Oxygen\", continuous=True)\n",
    "pn.add_place(initial_tokens=0, place_id=\"p_I\", label=\"Inhibitor\", continuous=True)\n",
    "pn.add_place(initial_tokens=15, place_id=\"p_H2O\", label=\"Water\", continuous=True)"
   ]
  },
  {
   "cell_type": "markdown",
   "metadata": {},
   "source": [
    "### 4) Add transitions to the HFPN\n",
    "Transitions represent reactions occurring in the biological network. So far, there are three ways to add a new transition. The difference between the three methods lies only in how a new transition is actually added by the user, the transition itself is the same for all three methods. \n",
    "- The function add_transition() is used for manual input of all reaction kinetics, e.g. rates, rate constants and stochiometric coefficients. \n",
    "- The function add_transition_with_speed_function() serves as a short simplification: here, you only need to put in one general equation (here e.g. law of mass action) for the reaction speed and the stochiometric coefficients.\n",
    "- The function add_transition_with_mass_action() is written for easy implementation of reactions governed by the law of mass action. The user only needs to specify the rate constant and stochiometric coefficients and the resulting rates are calculated from the concentrations (number of tokens) of the input places. \n",
    "\n",
    "**Make sure you know exactly what the biological function you want to implement is so you can choose the appropriate and easiest way to introduce your transition.**"
   ]
  },
  {
   "cell_type": "markdown",
   "metadata": {},
   "source": [
    "#### Method 1: add_transition\n",
    "Here, we put in all functions for consumption and production speeds in manually."
   ]
  },
  {
   "cell_type": "code",
   "execution_count": 4,
   "metadata": {},
   "outputs": [],
   "source": [
    "rate_constant = 1 #rate constant\n",
    "pn.add_transition(  transition_id = 't_a', \n",
    "                    label = 'Example transition Hydrogen and Oxygen to Water', \n",
    "                    input_place_ids = ['p_H2', 'p_O2', 'p_I'],\n",
    "                    firing_condition = lambda a : a['p_H2'] >= 0 or a['p_O2'] >= 0 and a['p_I'] <= 0.01,\n",
    "                    consumption_speed_functions = [lambda a : rate_constant * a['p_H2']**2 * a['p_O2']**1 * 2,\n",
    "                                                   lambda a : rate_constant * a['p_H2']**2 * a['p_O2']**1 * 1,\n",
    "                                                   lambda a : 0],\n",
    "                    output_place_ids = ['p_H2O'],  \n",
    "                    production_speed_functions = [lambda a : rate_constant * a['p_H2']**2 * a['p_O2']**1 * 2])\n",
    "                                                   \n"
   ]
  },
  {
   "cell_type": "markdown",
   "metadata": {},
   "source": [
    "Function arguments:\n",
    "- input_place_ids: List of place_id's of all input places.\n",
    "- firing condition: Define input place concentration thresholds for transition to happen. Inhibitory threshold is realized by forcing concentration of inhibitor to be very small.\n",
    "- consumption_speed_functions: A list of functions for consumption of first (H2) second (O2) and third (Inhibitor) input place.\n",
    "- output_place_ids: List of place_id's of all output places\n",
    "- production_speed_functions: Function for production of first output place (H2O)"
   ]
  },
  {
   "cell_type": "markdown",
   "metadata": {},
   "source": [
    "#### Method 2: add_transition_with_speed_function"
   ]
  },
  {
   "cell_type": "code",
   "execution_count": 10,
   "metadata": {},
   "outputs": [
    {
     "name": "stdout",
     "output_type": "stream",
     "text": [
      "Warning: Transition t_b already exists.\n"
     ]
    }
   ],
   "source": [
    "rate_constant = 1\n",
    "pn.add_transition_with_speed_function(\n",
    "                    transition_id = 't_b',\n",
    "                    label = 'Example transition b',\n",
    "                    input_place_ids = ['p_H2', 'p_O2', 'p_I'],\n",
    "                    firing_condition = lambda a : a['p_H2'] >= 0 or a['p_O2'] >= 0 and a['p_I'] <= 0.01,\n",
    "                    reaction_speed_function = lambda a : rate_constant * a['p_H2']**2 * a['p_O2']**1,\n",
    "                    consumption_coefficients = [2, 1, 0], \n",
    "                    output_place_ids = ['p_H2O'],         \n",
    "                    production_coefficients = [2])      \n"
   ]
  },
  {
   "cell_type": "markdown",
   "metadata": {},
   "source": [
    "Function arguments:\n",
    "- input_place_ids: List of place_id's of all input places\n",
    "- firing_condition: firing condition: Define input place concentration thresholds for transition to happen. Inhibitory threshold is realized by forcing concentration of inhibitor to be very small.\n",
    "- reaction_speed_function: Function (here Mass-action) for the speed of the reaction\n",
    "- consumption_coefficients: Stochiometric coefficients for consumption of input places in order (H2, O2, Inhibitor)\n",
    "- output_place_ids: List of place_id's of all output places\n",
    "- production_coefficients: Stochiometric coefficients for production of output places in order (H2O)"
   ]
  },
  {
   "cell_type": "markdown",
   "metadata": {},
   "source": [
    "#### Method 3: add_transition_with_mass_action\n",
    "Here, we put in one function for the reaction speed and the stochiometric coefficients for each input and output place.\n",
    "This method can be used to easily implement reaction governed by the law of mass action. \n",
    "The user only puts in the stochiometric coefficients for all input/output places and the resulting rates \n",
    "etc are calculated in the background."
   ]
  },
  {
   "cell_type": "code",
   "execution_count": 6,
   "metadata": {
    "collapsed": true
   },
   "outputs": [],
   "source": [
    "rate_constant = 1\n",
    "pn.add_transition_with_mass_action(  transition_id = 't_c',\n",
    "                    label = 'Example transition c',\n",
    "                    rate_constant = rate_constant,\n",
    "                    input_place_ids = ['p_H2', 'p_O2', 'p_I'], #List of place_id's of all input places\n",
    "                    firing_condition = lambda a : a['p_H2'] >= 0 and a['p_O2'] >= 0 and a['p_I'] <= 0.01,\n",
    "                    consumption_coefficients = [2, 1, 0], \n",
    "                    output_place_ids = ['p_H2O'],         \n",
    "                    production_coefficients = [2])        \n"
   ]
  },
  {
   "cell_type": "markdown",
   "metadata": {},
   "source": [
    "Function arguments: \n",
    "- firing_condition: Define input place concentration thresholds for transition to happen. Inhibitory threshold is realized by forcing concentration of inhibitor to be very small.\n",
    "- consumption_coefficients: Stochiometric coefficients for consumption of input places in order (H2, O2, Inhibitor)\n",
    "- output_place_ids: List of place_id's of all output places.\n",
    "- production_coefficients: Stochiometric coefficients for production of output places in order (H2O)\n"
   ]
  },
  {
   "cell_type": "markdown",
   "metadata": {},
   "source": [
    "### 5) Run the HFPN\n",
    "\n",
    "When running the HFPN, you have the option to specify\n",
    "- The total number of time steps for each run\n",
    "- The total number of runs to be executed"
   ]
  },
  {
   "cell_type": "code",
   "execution_count": 7,
   "metadata": {},
   "outputs": [
    {
     "name": "stdout",
     "output_type": "stream",
     "text": [
      "Timestep 0:\n",
      "\tHydrogen has 20 tokens\n",
      "\tOxygen has 10 tokens\n",
      "\tInhibitor has 0 tokens\n",
      "\tWater has 15 tokens\n",
      "Timestep 1:\n",
      "\tHydrogen has 9.188160356352 tokens\n",
      "\tOxygen has 4.594080178176 tokens\n",
      "\tInhibitor has 0.0 tokens\n",
      "\tWater has 25.811839643648 tokens\n",
      "Timestep 2:\n",
      "\tHydrogen has 7.339441473715818 tokens\n",
      "\tOxygen has 3.669720736857909 tokens\n",
      "\tInhibitor has 0.0 tokens\n",
      "\tWater has 27.66055852628418 tokens\n",
      "Timestep 3:\n",
      "\tHydrogen has 6.32053385493213 tokens\n",
      "\tOxygen has 3.160266927466065 tokens\n",
      "\tInhibitor has 0.0 tokens\n",
      "\tWater has 28.67946614506787 tokens\n",
      "Timestep 4:\n",
      "\tHydrogen has 5.644954618366221 tokens\n",
      "\tOxygen has 2.8224773091831103 tokens\n",
      "\tInhibitor has 0.0 tokens\n",
      "\tWater has 29.35504538163378 tokens\n",
      "[[[ 20.          10.           0.          15.        ]\n",
      "  [  9.18816036   4.59408018   0.          25.81183964]\n",
      "  [  7.33944147   3.66972074   0.          27.66055853]\n",
      "  [  6.32053385   3.16026693   0.          28.67946615]\n",
      "  [  5.64495462   2.82247731   0.          29.35504538]\n",
      "  [  5.15281667   2.57640833   0.          29.84718333]]]\n"
     ]
    }
   ],
   "source": [
    "pn.run_many_times(number_runs=1, number_time_steps=5) \n",
    "print(pn.token_storage)"
   ]
  },
  {
   "cell_type": "markdown",
   "metadata": {},
   "source": [
    "pn.run_many_times: Let the petri net evolve for time steps (number_time_steps). This can automatically be repeated for number_runs times.\\\n",
    "token.storage: A 3D matrix saving the token counts of all places at all times over each run."
   ]
  },
  {
   "cell_type": "markdown",
   "metadata": {},
   "source": [
    "### Additional functions: Searching for places/transitions via id or labels"
   ]
  },
  {
   "cell_type": "markdown",
   "metadata": {},
   "source": [
    "There are functions which enable you to find all places and/or transitions that contain specified character(s):\n",
    "- find_places_transitions() identifies places/transitions whose place_id/transition_id contain the specified character(s)\n",
    "- find_places_transitions_labels() identifies places/transitions whose label contain the specified character(s)"
   ]
  },
  {
   "cell_type": "code",
   "execution_count": 8,
   "metadata": {},
   "outputs": [
    {
     "name": "stdout",
     "output_type": "stream",
     "text": [
      "List of all place id's containing H2:\n",
      "p_H2\n",
      "p_H2O\n",
      "\n",
      "List of all transitions id's containing H2:\n"
     ]
    }
   ],
   "source": [
    "# 1.Example: Search Id's for 'H2':\n",
    "search_key = 'H2'\n",
    "pn.find_places_transitions(search_key, case_sensitive = True, search_places=True, search_transitions=True)"
   ]
  },
  {
   "cell_type": "markdown",
   "metadata": {},
   "source": [
    "case_sensitive describes if the search should distinguish between upper and lower case letters.\\\n",
    "With search_places and search_transitions you can restrict your search to either one if desired."
   ]
  },
  {
   "cell_type": "code",
   "execution_count": 9,
   "metadata": {},
   "outputs": [
    {
     "name": "stdout",
     "output_type": "stream",
     "text": [
      "List of all place labels containing Hydrogen:\n",
      "Hydrogen\n",
      "\n",
      "List of all transitions labels containing Hydrogen:\n",
      "Example transition Hydrogen and Oxygen to Water\n"
     ]
    }
   ],
   "source": [
    "# 2.Example: Search labels for 'Hydrogen':\n",
    "search_key = 'Hydrogen'\n",
    "pn.find_places_transitions_labels(search_key, case_sensitive = True, search_places=True, search_transitions=True)"
   ]
  },
  {
   "cell_type": "markdown",
   "metadata": {},
   "source": [
    "Function inputs:\n",
    "- case_sensitive describes if the search should distinguish between upper and lower case letters.\n",
    "- search_places and search_transitions: you can restrict your search to either one if desired."
   ]
  },
  {
   "cell_type": "code",
   "execution_count": null,
   "metadata": {
    "collapsed": true
   },
   "outputs": [],
   "source": []
  }
 ],
 "metadata": {
  "kernelspec": {
   "display_name": "Python 3",
   "language": "python",
   "name": "python3"
  },
  "language_info": {
   "codemirror_mode": {
    "name": "ipython",
    "version": 3
   },
   "file_extension": ".py",
   "mimetype": "text/x-python",
   "name": "python",
   "nbconvert_exporter": "python",
   "pygments_lexer": "ipython3",
   "version": "3.6.1"
  }
 },
 "nbformat": 4,
 "nbformat_minor": 4
}
