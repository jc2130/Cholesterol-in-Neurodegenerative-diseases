{
 "cells": [
  {
   "cell_type": "markdown",
   "metadata": {},
   "source": [
    "# Niemann-Pick Disease Type C - Hybrid Functional Petri Net (HFPN)\n",
    "This notebook has implemented the following blocks from the HFPN for NPCD:\n",
    "- [x] Cholesterol homeostasis\n",
    "- [x] LE/LYS Transport\n",
    "- [x] Calcium and sphingosine homeostasis\n",
    "- [x] Mitochondria\n",
    "- [x] Apoptosis/Survival\n",
    "\n",
    "The following Modules are finished in a final version which is not subject to further tuning:\n"
   ]
  },
  {
   "cell_type": "markdown",
   "metadata": {},
   "source": [
    "### Add your imports"
   ]
  },
  {
   "cell_type": "code",
   "execution_count": null,
   "metadata": {},
   "outputs": [],
   "source": [
    "# Import parameters, initial tokens and firing conditions from respective file\n",
    "from initial_tokens import *\n",
    "from parameters import *\n",
    "from firing_conditions import *\n",
    "from rate_functions import*"
   ]
  },
  {
   "cell_type": "code",
   "execution_count": null,
   "metadata": {},
   "outputs": [],
   "source": [
    "import os\n",
    "import sys\n",
    "import numpy as np\n",
    "\n",
    "cwd = os.getcwd()\n",
    "\n",
    "root_folder = os.sep+\"team-project\"\n",
    "sys.path.insert(0, cwd[:(cwd.index(root_folder)+len(root_folder))] + os.sep+\"utils\"+os.sep)\n",
    "\n",
    "from hfpn import HFPN\n",
    "from visualisation import Analysis\n",
    "import NPCD_HFPN\n",
    "\n",
    "from datetime import datetime"
   ]
  },
  {
   "cell_type": "code",
   "execution_count": null,
   "metadata": {
    "scrolled": false
   },
   "outputs": [],
   "source": [
    "#Configure and import sub-networks\n",
    "pn = HFPN(time_step=0.001) # time_step in s\n",
    "NPCD_HFPN.add_cholesterol_homeostasis(pn)\n",
    "NPCD_HFPN.add_tau_pathology(pn)\n",
    "NPCD_HFPN.add_ER_retraction_collapse(pn)\n",
    "NPCD_HFPN.add_calcium_homeostasis(pn)\n",
    "NPCD_HFPN.add_mitochondria(pn)\n",
    "NPCD_HFPN.add_apoptosis(pn)\n",
    "\n",
    "#set diseased condition\n",
    "#pn.set_initial_tokens_for('p_NPC1_LE', 660000)\n",
    "\n",
    "# Run network and plot result\n",
    "start_time = datetime.now()\n",
    "pn.run_many_times(1, 500000)\n",
    "execution_time = datetime.now() - start_time\n",
    "\n",
    "print('\\n\\ntime to execute:', execution_time)"
   ]
  },
  {
   "cell_type": "code",
   "execution_count": null,
   "metadata": {},
   "outputs": [],
   "source": [
    "analysis = Analysis(pn)"
   ]
  },
  {
   "cell_type": "code",
   "execution_count": null,
   "metadata": {},
   "outputs": [],
   "source": [
    "#Cholesterol\n",
    "analysis.mean_run_tokens_over_time([\"p_chol_LE\"])\n",
    "#analysis.mean_run_tokens_over_time([\"p_ApoEchol_extra\"])\n",
    "#analysis.mean_run_tokens_over_time([\"p_chol_PM\"])\n",
    "analysis.mean_run_tokens_over_time([\"p_chol_ER\"])\n",
    "analysis.mean_run_tokens_over_time([\"p_chol_mito\"])\n"
   ]
  },
  {
   "cell_type": "code",
   "execution_count": null,
   "metadata": {
    "scrolled": false
   },
   "outputs": [],
   "source": [
    "#Apoptosis\n",
    "analysis.mean_run_tokens_over_time([\"p_PERK_ER\"])\n",
    "analysis.mean_run_tokens_over_time([\"p_BAX_mito\"])\n",
    "analysis.mean_run_tokens_over_time([\"p_Bcl2_mito\"])\n",
    "analysis.mean_run_tokens_over_time([\"p_cytc_cyto\"])\n",
    "analysis.mean_run_tokens_over_time([\"p_TRADD_cyto\"])\n",
    "analysis.mean_run_tokens_over_time([\"p_mTORC1_LE\"])\n",
    "analysis.mean_run_tokens_over_time([\"p_cas3\"])\n",
    "analysis.mean_run_tokens_over_time([\"p_NFkB_cyto\"])"
   ]
  },
  {
   "cell_type": "code",
   "execution_count": null,
   "metadata": {},
   "outputs": [],
   "source": [
    "#Mitochondria\n",
    "analysis.mean_run_tokens_over_time([\"p_ATP\"])\n",
    "analysis.mean_run_tokens_over_time([\"p_ADP\"])\n",
    "analysis.mean_run_tokens_over_time([\"p_reduc_mito\"])\n",
    "analysis.mean_run_tokens_over_time([\"p_ROS_mito\"])\n",
    "analysis.mean_run_tokens_over_time([\"p_H2O_mito\"])"
   ]
  },
  {
   "cell_type": "code",
   "execution_count": null,
   "metadata": {},
   "outputs": [],
   "source": [
    "#Tau Pathology\n",
    "analysis.mean_run_tokens_over_time([\"p_tau\"])\n",
    "analysis.mean_run_tokens_over_time([\"p_tauP\"])"
   ]
  },
  {
   "cell_type": "code",
   "execution_count": null,
   "metadata": {},
   "outputs": [],
   "source": [
    "#ER retraction and collapse\n",
    "analysis.mean_run_tokens_over_time([\"p_RTN3_axon\"])\n",
    "analysis.mean_run_tokens_over_time([\"p_RTN3_PN\"])\n",
    "analysis.mean_run_tokens_over_time([\"p_RTN3_HMW_cyto\"])\n",
    "analysis.mean_run_tokens_over_time([\"p_RTN3_HMW_auto\"])\n",
    "analysis.mean_run_tokens_over_time([\"p_RTN3_HMW_lyso\"])\n",
    "analysis.mean_run_tokens_over_time([\"p_RTN3_HMW_dys1\"])\n",
    "analysis.mean_run_tokens_over_time([\"p_RTN3_HMW_dys2\"])"
   ]
  },
  {
   "cell_type": "code",
   "execution_count": null,
   "metadata": {},
   "outputs": [],
   "source": [
    "#Calcium\n",
    "analysis.mean_run_tokens_over_time(['p_Ca_LE'])\n",
    "analysis.mean_run_tokens_over_time(['p_Ca_cyto'])\n",
    "analysis.mean_run_tokens_over_time(['p_Ca_ER'])\n",
    "analysis.mean_run_tokens_over_time(['p_Ca_mito'])\n",
    "analysis.mean_run_tokens_over_time(['p_Ca_extra'])"
   ]
  },
  {
   "cell_type": "code",
   "execution_count": null,
   "metadata": {},
   "outputs": [],
   "source": [
    "#Graphs for Filippo\n",
    "analysis.mean_run_tokens_over_time(['p_chol_LE','p_chol_mito'], title=\"Cholesterol concentrations in healthy state\", labels_in_legend=True)\n",
    "analysis.mean_run_tokens_over_time(['p_Ca_LE','p_Ca_cyto'], title=\"Calcium concentrations in healthy state\", labels_in_legend=True)\n",
    "analysis.mean_run_tokens_over_time(['p_ROS_mito', 'p_cytc_cyto'], title=\"Stress signals in healthy state\", labels_in_legend=True)\n",
    "analysis.mean_run_tokens_over_time(['p_cas3', 'p_NFkB_cyto'], title=\"Apoptosis in healthy state\", labels_in_legend=True)\n",
    "analysis.mean_run_tokens_over_time(['p_RTN3_axon', 'p_RTN3_PN'], title=\"ER retraction in healthy state\", labels_in_legend=True)"
   ]
  }
 ],
 "metadata": {
  "kernelspec": {
   "display_name": "Python 3",
   "language": "python",
   "name": "python3"
  },
  "language_info": {
   "codemirror_mode": {
    "name": "ipython",
    "version": 3
   },
   "file_extension": ".py",
   "mimetype": "text/x-python",
   "name": "python",
   "nbconvert_exporter": "python",
   "pygments_lexer": "ipython3",
   "version": "3.7.6"
  }
 },
 "nbformat": 4,
 "nbformat_minor": 4
}
