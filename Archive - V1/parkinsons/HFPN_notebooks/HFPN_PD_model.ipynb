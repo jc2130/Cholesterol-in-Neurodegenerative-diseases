{
 "cells": [
  {
   "cell_type": "markdown",
   "metadata": {},
   "source": [
    "# Parkinson's Disease - Hybrid Functional Petri Net (HFPN)\n",
    "This script has implemented the following blocks of the HFPN for PD:\n",
    "- [x] Cholesterol homeostasis\n",
    "- [x] Calcium homeotasis\n",
    "- [x] Energy metabolism\n",
    "- [x] Lewy bodies formation\n",
    "\n",
    "Implemented data and parameter optimisation\n",
    "- [x] Cholesterol homeostasis\n",
    "- [x] Calcium homeotasis\n",
    "- [x] Energy metabolism\n",
    "- [x] Lewy bodies formation\n",
    "- [ ] ER retraction"
   ]
  },
  {
   "cell_type": "markdown",
   "metadata": {},
   "source": [
    "### Add your imports"
   ]
  },
  {
   "cell_type": "code",
   "execution_count": 1,
   "metadata": {},
   "outputs": [],
   "source": [
    "import os\n",
    "import sys\n",
    "# import pickle\n",
    "# import dill\n",
    "\n",
    "# Only run this cell once to avoid confusion with directories\n",
    "# Point this to the directory where HFPN.py is relative to your working directory\n",
    "cwd = os.getcwd() # Get current working directory\n",
    "root_folder = os.sep + \"team-project\"\n",
    "# Move to 'utils' from current directory position\n",
    "sys.path.insert(0, cwd[:(cwd.index(root_folder)+len(root_folder))] + os.sep + \"utils\" + os.sep)\n",
    "# Import HFPN class to work with hybrid functional Petri nets\n",
    "from hfpn import HFPN\n",
    "\n",
    "sys.path.insert(0, cwd[:(cwd.index(root_folder)+len(root_folder))] + os.sep + \"parkinsons\" + os.sep)\n",
    "# Import initial token, firing conditions and rate functions\n",
    "from inputs import *\n",
    "from initial_tokens import *\n",
    "from rate_functions import *\n",
    "from firing_conditions import *\n",
    "from visualisation import Analysis"
   ]
  },
  {
   "cell_type": "markdown",
   "metadata": {},
   "source": [
    "### Initialise an empty HFPN"
   ]
  },
  {
   "cell_type": "code",
   "execution_count": null,
   "metadata": {},
   "outputs": [],
   "source": [
    "# Initialize an empty HFPN\n",
    "pn = HFPN(time_step = 0.001) #unit = s/A.U."
   ]
  },
  {
   "cell_type": "markdown",
   "metadata": {},
   "source": [
    "## Define the places by module\n",
    "Note - if a transition links two modules, put the transition under the module that contains the input places"
   ]
  },
  {
   "cell_type": "markdown",
   "metadata": {},
   "source": [
    "### Cholesterol homeostasis places"
   ]
  },
  {
   "cell_type": "code",
   "execution_count": null,
   "metadata": {},
   "outputs": [],
   "source": [
    "pn.add_place(it_p_chol_PM, \"p_chol_PM\",\"Chol - perinuclear region\", continuous = True)\n",
    "pn.add_place(it_p_chol_LE, \"p_chol_LE\", \"Chol - late endosome\", continuous = True)\n",
    "pn.add_place(it_p_chol_ER, \"p_chol_ER\", \"Chol - ER\", continuous = True)\n",
    "# pn.add_place(it_p_chol_extra, \"p_chol_extra\",\"Chol - extracellular\", continuous = True)\n",
    "pn.add_place(it_p_chol_mito, \"p_chol_mito\", \"Chol - mitochondria\", continuous = True)\n",
    "pn.add_place(it_p_27OHchol_extra, \"p_27OHchol_extra\",\"27-OH chol - extracellular\", continuous = True)\n",
    "pn.add_place(it_p_27OHchol_intra, \"p_27OHchol_intra\",\"27-OH chol - intracellular\", continuous = True)\n",
    "pn.add_place(it_p_ApoEchol_extra, \"p_ApoEchol_extra\",\"ApoE - extracellular\", continuous = True)\n",
    "pn.add_place(it_p_ApoEchol_EE, \"p_ApoEchol_EE\",\"ApoE - Early endosome\", continuous = True)\n",
    "pn.add_place(it_p_7HOCA, \"p_7HOCA\",\"7-HOCA\", continuous = True)\n",
    "pn.add_place(it_p_preg,place_id=\"p_preg\", label=\"Pregnenolon\", continuous=True)\n",
    "pn.add_place(it_p_24OHchol_extra,place_id=\"p_24OHchol_extra\", label=\"24OHchol extra\", continuous=True)\n",
    "pn.add_place(it_p_24OHchol_intra,place_id=\"p_24OHchol_intra\", label=\"24OHchol intra\", continuous=True)\n",
    "\n",
    "# PD specific places in cholesterol homeostasis\n",
    "pn.add_place(it_p_GBA1, \"p_GBA1\",\"GBA1\", continuous = False)\n",
    "pn.add_place(it_p_SNCA_act_extra, \"p_SNCA_act_extra\",\"a-synuclein - extracellular\", continuous = True)\n",
    "pn.add_place(it_p_SNCAApoEchol_extra, \"p_SNCAApoEchol_extra\",\"a-synuclein-ApoE complex - extracellular\", continuous = True)\n",
    "pn.add_place(it_p_SNCAApoEchol_intra, \"p_SNCAApoEchol_intra\",\"a-synuclein-ApoE complex - intracellular\", continuous = True)"
   ]
  },
  {
   "cell_type": "markdown",
   "metadata": {},
   "source": [
    "### Energy metabolism places"
   ]
  },
  {
   "cell_type": "code",
   "execution_count": null,
   "metadata": {},
   "outputs": [],
   "source": [
    "pn.add_place(it_p_ROS_mito, \"p_ROS_mito\", \"ROS - mitochondria\", continuous = True)\n",
    "pn.add_place(it_p_H2O_mito, \"p_H2O_mito\", \"H2O - mitochondria\", continuous = True)\n",
    "pn.add_place(it_p_reduc_mito, \"p_reduc_mito\", \"Reducing agents - mitochondria\", continuous = True)\n",
    "pn.add_place(it_p_cas3, \"p_cas3\",\"caspase 3 - mitochondria\", continuous = True)\n",
    "pn.add_place(it_p_DJ1, \"p_DJ1\",\"DJ1 mutant\", continuous = True)\n"
   ]
  },
  {
   "cell_type": "markdown",
   "metadata": {},
   "source": [
    "### Calcium homeostasis places"
   ]
  },
  {
   "cell_type": "code",
   "execution_count": null,
   "metadata": {},
   "outputs": [],
   "source": [
    "pn.add_place(it_p_Ca_cyto, \"p_Ca_cyto\", \"Ca - cytosole\", continuous = True)\n",
    "pn.add_place(it_p_Ca_mito, \"p_Ca_mito\",\"Ca - mitochondria\", continuous = True)\n",
    "pn.add_place(it_p_Ca_ER, \"p_Ca_ER\", \"Ca - ER\", continuous = True)\n",
    "pn.add_place(it_p_ADP, \"p_ADP\",\"ADP - Calcium ER import\", continuous = True)\n",
    "pn.add_place(it_p_ATP, \"p_ATP\",\"ATP - Calcium ER import\", continuous = True)\n",
    "\n",
    "# Discrete on/of-switches calcium pacemaking\n",
    "\n",
    "pn.add_place(1, \"p_Ca_extra\", \"on1 - Ca - extracellular\", continuous = False)\n",
    "pn.add_place(0, \"p_on2\",\"on2\", continuous = False)\n",
    "pn.add_place(0, \"p_on3\",\"on3\", continuous = False)\n",
    "pn.add_place(0, \"p_on4\",\"on4\", continuous = False)"
   ]
  },
  {
   "cell_type": "markdown",
   "metadata": {},
   "source": [
    "### Lewy bodies pathology places"
   ]
  },
  {
   "cell_type": "code",
   "execution_count": null,
   "metadata": {},
   "outputs": [],
   "source": [
    "pn.add_place(it_p_SNCA_act, \"p_SNCA_act\",\"SNCA - active\", continuous = True)\n",
    "pn.add_place(it_p_VPS35, \"p_VPS35\", \"VPS35\", continuous = True)\n",
    "pn.add_place(it_p_SNCA_inact, \"p_SNCA_inact\", \"SNCA - inactive\", continuous = True)\n",
    "pn.add_place(it_p_SNCA_olig, \"p_SNCA_olig\", \"SNCA - Oligomerised\", continuous = True)\n",
    "pn.add_place(it_p_LB, \"p_LB\", \"Lewy body\", continuous = True)\n",
    "pn.add_place(it_p_Fe2, \"p_Fe2\", \"Fe2 iron pool\", continuous = True)"
   ]
  },
  {
   "cell_type": "markdown",
   "metadata": {},
   "source": [
    "### Late endosome pathology places\n"
   ]
  },
  {
   "cell_type": "code",
   "execution_count": null,
   "metadata": {},
   "outputs": [],
   "source": [
    "pn.add_place(it_p_LRRK2_mut, \"p_LRRK2_mut\",\"LRRK2 - mutated\", continuous = True)\n",
    "# Monomeric RTN3 (cycling between axonal and perinuclear regions)\n",
    "pn.add_place(it_p_RTN3_axon, place_id=\"p_RTN3_axon\", label=\"monomeric RTN3 (axonal)\", continuous=True)\n",
    "pn.add_place(it_p_RTN3_PN, place_id=\"p_RTN3_PN\", label=\"monomeric RTN3 (perinuclear)\", continuous=True)\n",
    "\n",
    "# HMW RTN3 (cycling between different cellular compartments)\n",
    "pn.add_place(it_p_RTN3_HMW_cyto, place_id=\"p_RTN3_HMW_cyto\", label=\"HMW RTN3 (cytosol)\", continuous=True)\n",
    "pn.add_place(it_p_RTN3_HMW_auto, place_id=\"p_RTN3_HMW_auto\", label=\"HMW RTN3 (autophagosome)\", continuous=True)\n",
    "pn.add_place(it_p_RTN3_HMW_lyso, place_id=\"p_RTN3_HMW_lyso\", label=\"HMW RTN3 (degraded in lysosome)\", continuous=True)\n",
    "pn.add_place(it_p_RTN3_HMW_dys1, place_id=\"p_RTN3_HMW_dys1\", label=\"HMW RTN3 (type I/III dystrophic neurites)\", continuous=True)\n",
    "pn.add_place(it_p_RTN3_HMW_dys2, place_id=\"p_RTN3_HMW_dys2\", label=\"HMW RTN3 (type II dystrophic neurites)\", continuous=True)\n",
    "\n",
    "# Two places that are NOT part of this subpathway, but are temporarily added for establishing proper connections\n",
    "# They will be removed upon merging of subpathways\n",
    "pn.add_place(it_p_tau, place_id=\"p_tau\", label = \"Unphosphorylated tau\", continuous = True)\n",
    "pn.add_place(it_p_tauP, place_id=\"p_tauP\", label = \"Phosphorylated tau\", continuous = True)"
   ]
  },
  {
   "cell_type": "markdown",
   "metadata": {},
   "source": [
    "### Drug places"
   ]
  },
  {
   "cell_type": "code",
   "execution_count": null,
   "metadata": {},
   "outputs": [],
   "source": [
    "# Drug place\n",
    "pn.add_place(it_p_NPT200, place_id=\"p_NPT200\", label = \"Drug NPT200\", continuous = True)\n",
    "pn.add_place(it_p_DNL151, place_id=\"p_DNL151\", label = \"Drug DNL151\", continuous = True)\n",
    "pn.add_place(it_p_LAMP2A, place_id=\"p_LAMP2A\", label = \"Drug LAMP2A\", continuous = True)"
   ]
  },
  {
   "cell_type": "markdown",
   "metadata": {},
   "source": [
    "## Define the transitions by module\n",
    "Note - if a transition links two modules, put the transition under the module that contains the input places"
   ]
  },
  {
   "cell_type": "markdown",
   "metadata": {},
   "source": [
    "### Cholesterol homeostasis transitions "
   ]
  },
  {
   "cell_type": "code",
   "execution_count": null,
   "metadata": {},
   "outputs": [],
   "source": [
    "# Cholesterol Endocytosis\n",
    "pn.add_transition_with_speed_function(\n",
    "                transition_id\t\t\t\t = \"t_LDLR_endocyto\",\n",
    "                label \t\t\t\t\t\t = \"LDLR endocyto\",\n",
    "                input_place_ids\t\t\t\t = [\"p_ApoEchol_extra\", \"p_chol_ER\",\"p_LB\"],\n",
    "                firing_condition\t\t\t = fc_t_LDLR_endocyto,\n",
    "                reaction_speed_function\t\t = r_t_LDLR_endocyto, \n",
    "                consumption_coefficients\t = [0,0,0],\n",
    "                output_place_ids\t\t\t = [\"p_ApoEchol_EE\"],\n",
    "                production_coefficients\t\t = [1])\n",
    "\n",
    "# Cleavage of cholesteryl esters\n",
    "pn.add_transition_with_speed_function(\n",
    "                transition_id\t\t\t\t = \"t_ApoEchol_cleav\",\n",
    "                label \t\t\t\t\t\t = \"ApoE-chol cleav\",\n",
    "                input_place_ids\t\t\t\t = [\"p_ApoEchol_EE\"],\n",
    "                firing_condition\t\t\t = fc_t_ApoEchol_cleav,\n",
    "                reaction_speed_function\t\t = r_t_ApoEchol_cleav, \n",
    "                consumption_coefficients\t = [1],\n",
    "                output_place_ids\t\t\t = [\"p_chol_LE\"],\n",
    "                production_coefficients\t\t = [354])\n",
    "\n",
    "# Transport Cholesterol from LE to ER\n",
    "pn.add_transition_with_speed_function(\n",
    "                transition_id\t\t\t\t = \"t_chol_trans_LE_ER\",\n",
    "                label \t\t\t\t\t\t = \"Chol transport LE-ER\",\n",
    "                input_place_ids\t\t\t\t = [\"p_chol_LE\"],\n",
    "                firing_condition\t\t\t = fc_t_chol_trans_LE_ER,\n",
    "                reaction_speed_function\t\t = r_t_chol_trans_LE_ER,\n",
    "                consumption_coefficients\t = [1],\n",
    "                output_place_ids\t\t\t = [\"p_chol_ER\"],\n",
    "                production_coefficients\t\t = [1])\n",
    "\n",
    "# Transport Cholesterol from LE to mito\n",
    "pn.add_transition_with_speed_function(\n",
    "                transition_id\t\t\t\t = \"t_chol_trans_LE_mito\",\n",
    "                label \t\t\t\t\t\t = \"Chol transport LE-mito\",\n",
    "                input_place_ids\t\t\t\t = [\"p_chol_LE\"],\n",
    "                firing_condition\t\t\t = fc_t_chol_trans_LE_mito,\n",
    "                reaction_speed_function\t\t = r_t_chol_trans_LE_mito,\n",
    "                consumption_coefficients\t = [1],\n",
    "                output_place_ids\t\t\t = [\"p_chol_mito\"],\n",
    "                production_coefficients\t\t = [1])\n",
    "\n",
    "# Transport Cholesterol from LE to PM\n",
    "pn.add_transition_with_speed_function(\n",
    "                transition_id\t\t\t\t = \"t_chol_trans_LE_PM\",\n",
    "                label \t\t\t\t\t\t = \"Chol transport LE-PM\",\n",
    "                input_place_ids\t\t\t\t = [\"p_chol_LE\"],\n",
    "                firing_condition\t\t\t = fc_t_chol_trans_LE_PM, \n",
    "                reaction_speed_function\t\t = r_t_chol_trans_LE_PM,\n",
    "                consumption_coefficients\t = [1],\n",
    "                output_place_ids\t\t\t = [\"p_chol_PM\"],\n",
    "                production_coefficients\t\t = [1])\n",
    "\n",
    "# Transport Cholesterol from PM to ER\n",
    "pn.add_transition_with_speed_function(\n",
    "                transition_id\t\t\t\t = \"t_chol_trans_PM_ER\",\n",
    "                label \t\t\t\t\t\t = \"Chol transport PM-ER\",\n",
    "                input_place_ids\t\t\t\t = [\"p_chol_PM\"],\n",
    "                firing_condition\t\t\t = fc_t_chol_trans_PM_ER,\n",
    "                reaction_speed_function\t\t = r_t_chol_trans_PM_ER,\n",
    "                consumption_coefficients\t = [1],\n",
    "                output_place_ids\t\t\t = [\"p_chol_ER\"],\n",
    "                production_coefficients\t\t = [1])\n",
    "\n",
    "# Transport Cholesterol from ER to PM\n",
    "pn.add_transition_with_speed_function(\n",
    "                transition_id\t\t\t\t = \"t_chol_trans_ER_PM\",\n",
    "                label \t\t\t\t\t\t = \"Chol transport ER-PM\",\n",
    "                input_place_ids\t\t\t\t = [\"p_chol_ER\"],\n",
    "                firing_condition\t\t\t = fc_t_chol_trans_ER_PM,\n",
    "                reaction_speed_function\t\t = r_t_chol_trans_ER_PM,\n",
    "                consumption_coefficients\t = [1],\n",
    "                output_place_ids\t\t\t = [\"p_chol_PM\"],\n",
    "                production_coefficients\t\t = [1])\n",
    "\n",
    "# Transport Cholesterol from ER to mito\n",
    "pn.add_transition_with_speed_function(\n",
    "                transition_id\t\t\t\t = \"t_chol_trans_ER_mito\",\n",
    "                label \t\t\t\t\t\t = \"Chol transport ER-mito\",\n",
    "                input_place_ids\t\t\t\t = [\"p_chol_ER\"],\n",
    "                firing_condition\t\t\t = fc_t_chol_trans_ER_mito,\n",
    "                reaction_speed_function\t\t = r_t_chol_trans_ER_mito,\n",
    "                consumption_coefficients\t = [1],\n",
    "                output_place_ids\t\t\t = [\"p_chol_mito\"],\n",
    "                production_coefficients\t\t = [1])\n",
    "\n",
    "# Metabolisation of chol by CYP27A1\n",
    "pn.add_transition_with_michaelis_menten(\n",
    "                transition_id\t\t\t\t = \"t_CYP27A1_metab\",\n",
    "                label \t\t\t\t\t\t = \"Chol metab CYP27A1\",\n",
    "                Km\t\t\t\t\t\t\t = Km_t_CYP27A1_metab,\n",
    "                vmax\t\t\t\t\t\t = vmax_t_CYP27A1_metab,\n",
    "                input_place_ids\t\t\t\t = [\"p_chol_mito\"],\n",
    "                substrate_id\t\t\t\t = \"p_chol_mito\",\n",
    "                consumption_coefficients\t = [1],\n",
    "                output_place_ids\t\t\t = [\"p_27OHchol_intra\"],\n",
    "                production_coefficients\t\t = [1],\n",
    "                vmax_scaling_function\t\t = lambda a : chol_mp)\n",
    "\n",
    "# Metabolism of chol by CYP11A1\n",
    "pn.add_transition_with_michaelis_menten(\n",
    "                transition_id\t\t\t\t = \"t_CYP11A1_metab\",\n",
    "                label \t\t\t\t\t\t = \"Chol metab CYP11A1\",\n",
    "                Km\t\t\t\t\t\t\t = Km_t_CYP11A1_metab,\n",
    "                vmax\t\t\t\t\t\t = vmax_t_CYP11A1_metab,\n",
    "                input_place_ids\t\t\t\t = [\"p_chol_mito\"],\n",
    "                substrate_id\t\t\t\t = \"p_chol_mito\",\n",
    "                consumption_coefficients\t = [1],\n",
    "                output_place_ids\t\t\t = [\"p_preg\"],\n",
    "                production_coefficients\t\t = [1],\n",
    "                vmax_scaling_function\t\t = lambda a : chol_mp)\n",
    "\n",
    "# Metabolisation of 27OHchol by CYP7B1\n",
    "pn.add_transition_with_michaelis_menten(\n",
    "                transition_id\t\t\t\t = \"t_CYP7B1_metab\",\n",
    "                label \t\t\t\t\t\t = \"27OHchol metab CYP7B1\",\n",
    "                Km\t\t\t\t\t\t\t = Km_t_CYP7B1_metab,\n",
    "                vmax\t\t\t\t\t\t = vmax_t_CYP7B1_metab,\n",
    "                input_place_ids\t\t\t\t = [\"p_27OHchol_intra\"],\n",
    "                substrate_id\t\t\t\t = \"p_27OHchol_intra\",\n",
    "                consumption_coefficients\t = [1],\n",
    "                output_place_ids\t\t\t = [\"p_7HOCA\"],\n",
    "                production_coefficients\t\t = [1],\n",
    "                vmax_scaling_function\t\t = lambda a : chol_mp)\n",
    "\n",
    "# Endocytosis of 27OHchol\n",
    "pn.add_transition_with_speed_function(\n",
    "                transition_id\t\t\t\t = \"t_27OHchol_endocyto\",\n",
    "                label \t\t\t\t\t\t = \"27OHchol endocyto\",\n",
    "                input_place_ids\t\t\t\t = [\"p_27OHchol_extra\"],\n",
    "                firing_condition\t\t\t = fc_t_27OHchol_endocyto,\n",
    "                reaction_speed_function\t\t = r_t_27OHchol_endocyto,\n",
    "                consumption_coefficients\t = [1],\n",
    "                output_place_ids\t\t\t = [\"p_27OHchol_intra\", \"p_27OHchol_extra\"],\n",
    "                production_coefficients\t\t = [1,1])\n",
    "\n",
    "# Metabolisation of chol by CYP46A1\n",
    "pn.add_transition_with_michaelis_menten(\n",
    "                transition_id\t\t\t\t = \"t_CYP46A1_metab\",\n",
    "                label \t\t\t\t\t\t = \"Chol metab CYP46A1\",\n",
    "                Km\t\t\t\t\t\t\t = Km_t_CYP46A1_metab,\n",
    "                vmax\t\t\t\t\t\t = vmax_t_CYP46A1_metab,\n",
    "                input_place_ids\t\t\t\t = [\"p_chol_ER\"],\n",
    "                substrate_id\t\t\t\t = \"p_chol_ER\",\n",
    "                consumption_coefficients\t = [1],\n",
    "                output_place_ids\t\t\t = [\"p_24OHchol_intra\"],\n",
    "                production_coefficients\t\t = [1],\n",
    "                vmax_scaling_function\t\t = lambda a : chol_mp)\n",
    "\n",
    "# Exocytosis of 24OHchol\n",
    "pn.add_transition_with_speed_function(\n",
    "                transition_id\t\t\t\t = \"t_24OHchol_exocyto\",\n",
    "                label \t\t\t\t\t\t = \"24OHchol exocyto\",\n",
    "                input_place_ids\t\t\t\t = [\"p_24OHchol_intra\"],\n",
    "                firing_condition\t\t\t = fc_t_24OHchol_exocyto,\n",
    "                reaction_speed_function\t\t = r_t_24OHchol_exocyto,\n",
    "                consumption_coefficients\t = [1],\n",
    "                output_place_ids\t\t\t = [\"p_24OHchol_extra\"],\n",
    "                production_coefficients\t\t = [1])\n",
    "\n",
    "# Transport of Chol into ECM\n",
    "pn.add_transition_with_speed_function(\n",
    "                transition_id\t\t\t\t = \"t_chol_trans_PM_ECM\",\n",
    "                label \t\t\t\t\t\t = \"Chol transport PM-ECM\",\n",
    "                input_place_ids\t\t\t\t = [\"p_chol_PM\", \"p_24OHchol_intra\"],\n",
    "                firing_condition\t\t\t = fc_t_chol_trans_PM_ECM,\n",
    "                reaction_speed_function\t\t = r_t_chol_trans_PM_ECM,\n",
    "                consumption_coefficients\t = [1,0],\n",
    "                output_place_ids\t\t\t = [],\n",
    "                production_coefficients\t\t = [])\n",
    "\n",
    "\n",
    "# PD specific\n",
    "\n",
    "pn.add_transition_with_speed_function(\n",
    "                    transition_id = 't_SNCA_bind_ApoEchol_extra',\n",
    "                    label = 'Extracellular binding of SNCA to chol',\n",
    "                    input_place_ids = ['p_ApoEchol_extra','p_SNCA_act'],\n",
    "                    firing_condition = fc_t_SNCA_bind_ApoEchol_extra,\n",
    "                    reaction_speed_function = r_t_SNCA_bind_ApoEchol_extra,\n",
    "                    consumption_coefficients = [0,30], \n",
    "                    output_place_ids = ['p_SNCA_olig'],         \n",
    "                    production_coefficients = [1])\n",
    "\n",
    "pn.add_transition_with_speed_function(\n",
    "                    transition_id = 't_chol_LE_upreg',\n",
    "                    label = 'Upregulation of chol in LE',\n",
    "                    input_place_ids = ['p_GBA1'],\n",
    "                    firing_condition = fc_t_chol_LE_upreg,\n",
    "                    reaction_speed_function = r_t_chol_LE_upreg,\n",
    "                    consumption_coefficients = [0], # GBA1 is an enzyme\n",
    "                    output_place_ids = ['p_chol_LE'],         \n",
    "                    production_coefficients = [1])"
   ]
  },
  {
   "cell_type": "markdown",
   "metadata": {},
   "source": [
    "### Calcium homeostasis transitions"
   ]
  },
  {
   "cell_type": "code",
   "execution_count": null,
   "metadata": {},
   "outputs": [],
   "source": [
    "pn.add_transition_with_speed_function(\n",
    "                    transition_id = 't_Ca_imp',\n",
    "                    label = 'L-type Ca channel',\n",
    "                    input_place_ids = ['p_Ca_extra'],\n",
    "                    firing_condition = fc_t_Ca_imp,\n",
    "                    reaction_speed_function = r_t_Ca_imp,\n",
    "                    consumption_coefficients = [0], # Need to review this \n",
    "                    output_place_ids = ['p_Ca_cyto'],         \n",
    "                    production_coefficients = [1]) # Need to review this \n",
    "\n",
    "\n",
    "pn.add_transition_with_speed_function(\n",
    "                    transition_id = 't_mCU',\n",
    "                    label = 'Ca import into mitochondria via mCU',\n",
    "                    input_place_ids = ['p_Ca_cyto','p_Ca_mito'],\n",
    "                    firing_condition = fc_t_mCU,\n",
    "                    reaction_speed_function = r_t_mCU,\n",
    "                    consumption_coefficients = [1,0], \n",
    "                    output_place_ids = ['p_Ca_mito'],         \n",
    "                    production_coefficients = [1]) \n",
    "\n",
    "pn.add_transition_with_speed_function(\n",
    "                    transition_id = 't_MAM',\n",
    "                    label = 'Ca transport from ER to mitochondria',\n",
    "                    input_place_ids = ['p_Ca_ER','p_Ca_mito'],\n",
    "                    firing_condition = fc_t_MAM,\n",
    "                    reaction_speed_function = r_t_MAM,\n",
    "                    consumption_coefficients = [1,0], \n",
    "                    output_place_ids = ['p_Ca_mito'],         \n",
    "                    production_coefficients = [1]) \n",
    "\n",
    "pn.add_transition_with_speed_function(\n",
    "                    transition_id = 't_RyR_IP3R',\n",
    "                    label = 'Ca export from ER',\n",
    "                    input_place_ids = ['p_Ca_extra','p_Ca_ER'],\n",
    "                    firing_condition = fc_t_RyR_IP3R,\n",
    "                    reaction_speed_function = r_t_RyR_IP3R,\n",
    "                    consumption_coefficients = [0,1], \n",
    "                    output_place_ids = ['p_Ca_cyto'],         \n",
    "                    production_coefficients = [1]) \n",
    "\n",
    "pn.add_transition_with_speed_function(\n",
    "                    transition_id = 't_SERCA',\n",
    "                    label = 'Ca import to ER',\n",
    "                    input_place_ids = ['p_Ca_cyto','p_ATP'],\n",
    "                    firing_condition = fc_t_SERCA,\n",
    "                    reaction_speed_function = r_t_SERCA,\n",
    "                    consumption_coefficients = [1,1], #!!!!! Need to review this 0 should be 1\n",
    "                    output_place_ids = ['p_Ca_ER','p_ADP'],         \n",
    "                    production_coefficients = [1,1]) # Need to review this\n",
    "\n",
    "pn.add_transition_with_speed_function(\n",
    "                    transition_id = 't_NCX_PMCA',\n",
    "                    label = 'Ca efflux to extracellular space',\n",
    "                    input_place_ids = ['p_Ca_cyto','p_on3'],\n",
    "                    firing_condition = lambda a: a['p_on3']==1,\n",
    "                    reaction_speed_function = r_t_NCX_PMCA,\n",
    "                    consumption_coefficients = [1,0], \n",
    "                    output_place_ids = [],         \n",
    "                    production_coefficients = [])\n",
    "pn.add_transition_with_speed_function(\n",
    "                    transition_id = 't_mNCLX',\n",
    "                    label = 'Ca export from mitochondria via mNCLX',\n",
    "                    input_place_ids = ['p_Ca_mito','p_LRRK2_mut'],\n",
    "                    firing_condition = fc_t_mNCLX,\n",
    "                    reaction_speed_function = r_t_mNCLX,\n",
    "                    consumption_coefficients = [1,0], \n",
    "                    output_place_ids = ['p_Ca_cyto'],         \n",
    "                    production_coefficients = [1]) \n",
    "\n",
    "# Discrete on/of-switches calcium pacemaking\n",
    "\n",
    "pn.add_transition_with_speed_function(\n",
    "                    transition_id = 't_A',\n",
    "                    label = 'A',\n",
    "                    input_place_ids = ['p_on4'],\n",
    "                    firing_condition = lambda a: a['p_on4']==1,\n",
    "                    reaction_speed_function = lambda a: 1,\n",
    "                    consumption_coefficients = [1], \n",
    "                    output_place_ids = ['p_Ca_extra'],         \n",
    "                    production_coefficients = [1],\n",
    "                    delay=0.5) \n",
    "pn.add_transition_with_speed_function(\n",
    "                    transition_id = 't_B',\n",
    "                    label = 'B',\n",
    "                    input_place_ids = ['p_Ca_extra'],\n",
    "                    firing_condition = lambda a: a['p_Ca_extra']==1,\n",
    "                    reaction_speed_function = lambda a: 1,\n",
    "                    consumption_coefficients = [1], \n",
    "                    output_place_ids = ['p_on2'],         \n",
    "                    production_coefficients = [1],\n",
    "                    delay=0.5) \n",
    "pn.add_transition_with_speed_function(\n",
    "                    transition_id = 't_C',\n",
    "                    label = 'C',\n",
    "                    input_place_ids = ['p_on2'],\n",
    "                    firing_condition = lambda a: a['p_on2']==1,\n",
    "                    reaction_speed_function = lambda a: 1,\n",
    "                    consumption_coefficients = [1], \n",
    "                    output_place_ids = ['p_on3'],         \n",
    "                    production_coefficients = [1],\n",
    "                    delay=0) \n",
    "pn.add_transition_with_speed_function(\n",
    "                    transition_id = 't_D',\n",
    "                    label = 'D',\n",
    "                    input_place_ids = ['p_on3'],\n",
    "                    firing_condition = lambda a: a['p_on3']==1,\n",
    "                    reaction_speed_function = lambda a: 1,\n",
    "                    consumption_coefficients = [1], \n",
    "                    output_place_ids = ['p_on4'],         \n",
    "                    production_coefficients = [1],\n",
    "                    delay=0.5)"
   ]
  },
  {
   "cell_type": "code",
   "execution_count": null,
   "metadata": {},
   "outputs": [],
   "source": [
    "# Link to energy metabolism in that it needs ATP replenishment\n",
    "pn.add_transition_with_mass_action(\n",
    "                    transition_id = 't_NaK_ATPase',\n",
    "                    label = 'NaK ATPase',\n",
    "                    rate_constant =  k_t_NaK_ATPase,\n",
    "                    input_place_ids = ['p_ATP', 'p_on3'],\n",
    "                    firing_condition = lambda a: a['p_on3']==1,\n",
    "                    consumption_coefficients = [1,0], \n",
    "                    output_place_ids = ['p_ADP'],         \n",
    "                    production_coefficients = [1])"
   ]
  },
  {
   "cell_type": "markdown",
   "metadata": {},
   "source": [
    "### Lewy bodies pathology transitions"
   ]
  },
  {
   "cell_type": "code",
   "execution_count": null,
   "metadata": {},
   "outputs": [],
   "source": [
    "pn.add_transition_with_speed_function(\n",
    "                    transition_id = 't_SNCA_degr',\n",
    "                    label = 'SNCA degradation by CMA',\n",
    "                    input_place_ids = ['p_SNCA_act','p_VPS35','p_LRRK2_mut','p_27OHchol_intra','p_DJ1', 'p_DNL151', 'p_LAMP2A'],\n",
    "                    firing_condition = fc_t_SNCA_degr,\n",
    "                    reaction_speed_function = r_t_SNCA_degr,\n",
    "                    consumption_coefficients = [1,0,0,0,0,0,0], \n",
    "                    output_place_ids = ['p_SNCA_inact'],         \n",
    "                    production_coefficients = [1])\n",
    "\n",
    "pn.add_transition_with_speed_function(\n",
    "                    transition_id = 't_SNCA_aggr',\n",
    "                    label = 'SNCA aggregation',\n",
    "                    input_place_ids = ['p_SNCA_act','p_Ca_cyto','p_ROS_mito', 'p_tauP', 'p_NPT200'],\n",
    "                    firing_condition = fc_t_SNCA_aggr,\n",
    "                    reaction_speed_function = r_t_SNCA_aggr,\n",
    "                    consumption_coefficients = [30,0,0,0,0], #should be reviewed if Ca is consumed\n",
    "                    output_place_ids = ['p_SNCA_olig'],         \n",
    "                    production_coefficients = [1])\n",
    "\n",
    "pn.add_transition_with_speed_function(\n",
    "                    transition_id = 't_SNCA_fibril',\n",
    "                    label = 'SNCA fibrillation',\n",
    "                    input_place_ids = ['p_SNCA_olig'],\n",
    "                    firing_condition = fc_t_SNCA_fibril,\n",
    "                    reaction_speed_function = r_t_SNCA_fibril,\n",
    "                    consumption_coefficients = [100], \n",
    "                    output_place_ids = ['p_LB'],         \n",
    "                    production_coefficients = [1])\n",
    "\n",
    "pn.add_transition_with_speed_function(\n",
    "                    transition_id = 't_IRE',\n",
    "                    label = 'IRE',\n",
    "                    input_place_ids = ['p_Fe2'],\n",
    "                    firing_condition = fc_t_IRE,\n",
    "                    reaction_speed_function = r_t_IRE,\n",
    "                    consumption_coefficients = [0], \n",
    "                    output_place_ids = ['p_SNCA_act'],         \n",
    "                    production_coefficients = [1])"
   ]
  },
  {
   "cell_type": "code",
   "execution_count": null,
   "metadata": {},
   "outputs": [],
   "source": []
  },
  {
   "cell_type": "markdown",
   "metadata": {},
   "source": [
    "### Energy metabolism transitions"
   ]
  },
  {
   "cell_type": "code",
   "execution_count": null,
   "metadata": {},
   "outputs": [],
   "source": [
    "pn.add_transition_with_speed_function(\n",
    "                    transition_id = 't_ATP_hydro_mito',\n",
    "                    label = 'ATP hydrolysis in mitochondria',\n",
    "                    input_place_ids = ['p_ATP'],\n",
    "                    firing_condition = fc_t_ATP_hydro_mito,\n",
    "                    reaction_speed_function = r_t_ATP_hydro_mito,\n",
    "                    consumption_coefficients = [1], \n",
    "                    output_place_ids = ['p_ADP'],         \n",
    "                    production_coefficients = [1])\n",
    "pn.add_transition_with_speed_function(\n",
    "                    transition_id = 't_ROS_metab',\n",
    "                    label = 'ROS neutralisation',\n",
    "                    input_place_ids = ['p_ROS_mito','p_chol_mito','p_LB','p_DJ1'],\n",
    "                    firing_condition = fc_t_ROS_metab,\n",
    "                    reaction_speed_function = r_t_ROS_metab,\n",
    "                    consumption_coefficients = [1,0,0,0], \n",
    "                    output_place_ids = ['p_H2O_mito'],         \n",
    "                    production_coefficients = [1])\n",
    "# #Link of krebs to calcium homeostasis\n",
    "pn.add_transition_with_speed_function(\n",
    "                    transition_id = 't_krebs',\n",
    "                    label = 'Krebs cycle',\n",
    "                    input_place_ids = ['p_ADP','p_Ca_mito'],\n",
    "                    firing_condition = fc_t_krebs,\n",
    "                    reaction_speed_function = r_t_krebs,\n",
    "                    consumption_coefficients = [1,0], # Need to review this\n",
    "                    output_place_ids = ['p_reduc_mito','p_ATP'],         \n",
    "                    production_coefficients = [4,1])\n",
    "#Link of ETC to calcium and cholesterol\n",
    "pn.add_transition_with_speed_function(\n",
    "                    transition_id = 't_ETC',\n",
    "                    label = 'Electron transport chain',\n",
    "                    input_place_ids = ['p_reduc_mito', 'p_ADP', 'p_Ca_mito', 'p_chol_mito','p_ROS_mito','p_LRRK2_mut'],\n",
    "                    firing_condition = fc_t_ETC,\n",
    "                    reaction_speed_function = r_t_ETC,\n",
    "                    consumption_coefficients = [22/3,22,0,0,0,0], # Need to review this\n",
    "                    output_place_ids = ['p_ATP', 'p_ROS_mito'],         \n",
    "                    production_coefficients = [22,0.005])\n",
    "\n",
    "\n",
    "# # Output transitions: Cas3 for apoptosis\n",
    "pn.add_transition_with_speed_function(\n",
    "                    transition_id = 't_mito_dysfunc',\n",
    "                    label = 'Mitochondrial complex 1 dysfunction',\n",
    "                    input_place_ids = ['p_ROS_mito'],\n",
    "                    firing_condition = fc_t_mito_dysfunc,\n",
    "                    reaction_speed_function = r_t_mito_dysfunc,\n",
    "                    consumption_coefficients = [1], \n",
    "                    output_place_ids = ['p_cas3'],         \n",
    "                    production_coefficients = [1])\n",
    "pn.add_transition_with_speed_function(\n",
    "                    transition_id = 't_cas3_inact',\n",
    "                    label = 'Caspase 3 degredation',\n",
    "                    input_place_ids = ['p_cas3'],\n",
    "                    firing_condition = fc_t_cas3_inact,\n",
    "                    reaction_speed_function = r_t_cas3_inact,\n",
    "                    consumption_coefficients = [1], # Need to review this\n",
    "                    output_place_ids = [],         \n",
    "                    production_coefficients = [])"
   ]
  },
  {
   "cell_type": "code",
   "execution_count": null,
   "metadata": {},
   "outputs": [],
   "source": []
  },
  {
   "cell_type": "markdown",
   "metadata": {},
   "source": [
    "### Late endosome pathology transitions\n"
   ]
  },
  {
   "cell_type": "code",
   "execution_count": null,
   "metadata": {},
   "outputs": [],
   "source": [
    "pn.add_transition_with_michaelis_menten(transition_id = 't_phos_tau',\n",
    "                    label = 'Phosphorylation of tau',\n",
    "                    Km = Km_t_phos_tau, \n",
    "                    vmax = kcat_t_phos_tau, \n",
    "                    input_place_ids = ['p_tau', 'p_SNCA_act'],\n",
    "                    substrate_id = 'p_tau',\n",
    "                    consumption_coefficients = [1, 0],\n",
    "                    output_place_ids = ['p_tauP'],\n",
    "                    production_coefficients = [1],\n",
    "                    vmax_scaling_function = vmax_scaling_t_phos_tau)\n",
    "\n",
    "pn.add_transition_with_michaelis_menten(transition_id = 't_dephos_tauP',\n",
    "                    label = 'Dephosphorylation of tau protein',\n",
    "                    Km = Km_t_dephos_tauP, \n",
    "                    vmax = vmax_t_dephos_tauP, \n",
    "                    input_place_ids = ['p_tauP', 'p_Ca_cyto'],\n",
    "                    substrate_id = 'p_tauP',\n",
    "                    consumption_coefficients = [1, 0],\n",
    "                    output_place_ids = ['p_tau'],\n",
    "                    production_coefficients = [1],\n",
    "                    vmax_scaling_function = vmax_scaling_t_dephos_tauP)\n",
    "\n",
    "pn.add_transition_with_speed_function(\n",
    "                    transition_id = 't_RTN3_exp',\n",
    "                    label = 'Expression rate of RTN3',\n",
    "                    input_place_ids = [], \n",
    "                    firing_condition = fc_t_RTN3_exp,\n",
    "                    reaction_speed_function = r_t_RTN3_exp, \n",
    "                    consumption_coefficients = [],\n",
    "                    output_place_ids = ['p_RTN3_PN'],\n",
    "                    production_coefficients = [1])\n",
    "\n",
    "pn.add_transition_with_speed_function(\n",
    "                    transition_id = 't_LE_retro',\n",
    "                    label = 'retrograde transport of LEs & ER',\n",
    "                    input_place_ids = ['p_ATP','p_chol_LE','p_RTN3_axon', 'p_tau','p_LRRK2_mut','p_LB'], \n",
    "                    firing_condition = fc_t_LE_retro,\n",
    "                    reaction_speed_function = r_t_LE_retro, \n",
    "                    consumption_coefficients = [ATPcons_t_LE_trans, 0, 1, 0,0,0],\n",
    "                    output_place_ids = ['p_ADP','p_RTN3_PN'],\n",
    "                    production_coefficients = [ATPcons_t_LE_trans, 1]) \n",
    "\n",
    "pn.add_transition_with_speed_function(\n",
    "                    transition_id = 't_LE_antero',\n",
    "                    label = 'anterograde transport of LEs & ER',\n",
    "                    input_place_ids = ['p_ATP','p_RTN3_PN', 'p_tau'], # didn't connect p_tau yet\n",
    "                    firing_condition = fc_t_LE_antero,\n",
    "                    reaction_speed_function = r_t_LE_antero, # get later from NPCD\n",
    "                    consumption_coefficients = [ATPcons_t_LE_trans, 1, 0], # tune these coefficients based on PD\n",
    "                    output_place_ids = ['p_ADP','p_RTN3_axon'],\n",
    "                    production_coefficients = [ATPcons_t_LE_trans, 1]) # tune these coefficients based on PD\n",
    "\n",
    "pn.add_transition_with_speed_function(\n",
    "                    transition_id = 't_RTN3_aggregation',\n",
    "                    label = 'aggregation of monomeric RTN3 into HMW RTN3',\n",
    "                    input_place_ids = ['p_RTN3_axon', 'p_RTN3_PN'], \n",
    "                    firing_condition = fc_t_RTN3_aggregation, # tune aggregation limit later\n",
    "                    reaction_speed_function = r_t_RTN3_aggregation,\n",
    "                    consumption_coefficients = [1, 1],\n",
    "                    output_place_ids = ['p_RTN3_HMW_cyto'],\n",
    "                    production_coefficients = [1]) \n",
    "\n",
    "pn.add_transition_with_speed_function(\n",
    "                    transition_id = 't_RTN3_auto',\n",
    "                    label = 'functional autophagy of HMW RTN3',\n",
    "                    input_place_ids = ['p_RTN3_HMW_cyto', 'p_RTN3_axon'], \n",
    "                    firing_condition = fc_t_RTN3_auto, \n",
    "                    reaction_speed_function = r_t_RTN3_auto,\n",
    "                    consumption_coefficients = [1, 0],\n",
    "                    output_place_ids = ['p_RTN3_HMW_auto'],\n",
    "                    production_coefficients = [1]) \n",
    "\n",
    "pn.add_transition_with_speed_function(\n",
    "                    transition_id = 't_RTN3_lyso',\n",
    "                    label = 'functional delivery of HMW RTN3 to the lysosome',\n",
    "                    input_place_ids = ['p_RTN3_HMW_auto', 'p_tau'], \n",
    "                    firing_condition = fc_t_RTN3_lyso, \n",
    "                    reaction_speed_function = r_t_RTN3_lyso,\n",
    "                    consumption_coefficients = [1, 0],\n",
    "                    output_place_ids = ['p_RTN3_HMW_lyso'],\n",
    "                    production_coefficients = [1]) \n",
    "\n",
    "pn.add_transition_with_speed_function(\n",
    "                    transition_id = 't_RTN3_dys_auto',\n",
    "                    label = 'dysfunctional autophagy of HMW RTN3',\n",
    "                    input_place_ids = ['p_RTN3_HMW_cyto', 'p_RTN3_axon'], \n",
    "                    firing_condition = fc_t_RTN3_dys_auto, \n",
    "                    reaction_speed_function = r_t_RTN3_dys_auto,\n",
    "                    consumption_coefficients = [1, 0],\n",
    "                    output_place_ids = ['p_RTN3_HMW_dys1'],\n",
    "                    production_coefficients = [1]) # tune later when data are incorporated\n",
    "\n",
    "pn.add_transition_with_speed_function(\n",
    "                    transition_id = 't_RTN3_dys_lyso',\n",
    "                    label = 'dysfunctional delivery of HMW RTN3 to the lysosome',\n",
    "                    input_place_ids = ['p_RTN3_HMW_auto', 'p_RTN3_HMW_dys1', 'p_tau'], \n",
    "                    firing_condition = fc_t_RTN3_dys_lyso, \n",
    "                    reaction_speed_function = r_t_RTN3_dys_lyso,\n",
    "                    consumption_coefficients = [1, 0, 0],\n",
    "                    output_place_ids = ['p_RTN3_HMW_dys2'],\n",
    "                    production_coefficients = [1]) # tune later when data are incorporated"
   ]
  },
  {
   "cell_type": "markdown",
   "metadata": {},
   "source": [
    "## Run the network and plot a time evolution of the system"
   ]
  },
  {
   "cell_type": "code",
   "execution_count": null,
   "metadata": {},
   "outputs": [],
   "source": [
    "pn.reset_network()"
   ]
  },
  {
   "cell_type": "code",
   "execution_count": null,
   "metadata": {},
   "outputs": [],
   "source": [
    "pn.run_many_times(number_runs=1, number_time_steps=1000000)\n",
    "\n",
    "analysis = Analysis(pn)"
   ]
  },
  {
   "cell_type": "code",
   "execution_count": null,
   "metadata": {
    "scrolled": false
   },
   "outputs": [],
   "source": [
    "# analysis.mean_run_tokens_over_time([\"p_tau\"])\n",
    "# analysis.mean_run_tokens_over_time([\"p_tauP\"])\n",
    "# analysis.mean_run_tokens_over_time([\"p_RTN3_axon\"])\n",
    "# analysis.mean_run_tokens_over_time([\"p_RTN3_PN\"])\n",
    "# analysis.mean_run_tokens_over_time([\"p_RTN3_HMW_dys2\"])\n",
    "# analysis.mean_run_tokens_over_time([\"p_RTN3_HMW_dys1\"])\n",
    "# analysis.mean_run_tokens_over_time([\"p_RTN3_HMW_auto\"])\n",
    "# analysis.mean_run_tokens_over_time([\"p_RTN3_HMW_cyto\"])"
   ]
  },
  {
   "cell_type": "code",
   "execution_count": null,
   "metadata": {
    "scrolled": false
   },
   "outputs": [],
   "source": [
    "#PLOTTING ENERGY METABOLISM\n",
    "# analysis.mean_run_tokens_over_time(['p_ATP'])\n",
    "# analysis.mean_run_tokens_over_time(['p_ADP'])\n",
    "# analysis.mean_run_tokens_over_time(['p_reduc_mito'])\n",
    "# analysis.mean_run_tokens_over_time(['p_ROS_mito'])\n",
    "# analysis.mean_run_tokens_over_time(['p_H2O_mito'])\n",
    "# analysis.mean_run_tokens_over_time(['p_cas3'])"
   ]
  },
  {
   "cell_type": "code",
   "execution_count": null,
   "metadata": {},
   "outputs": [],
   "source": [
    "import numpy as np\n",
    "mean_atp = np.mean(analysis.token_storage[:,50000:,analysis.place_dict[\"p_ATP\"]])\n",
    "\n",
    "print(mean_atp)"
   ]
  },
  {
   "cell_type": "code",
   "execution_count": null,
   "metadata": {},
   "outputs": [],
   "source": [
    "#PLOTTING CALCIUM \n",
    "# analysis.mean_run_tokens_over_time(['p_Ca_mito','p_Ca_cyto'])\n",
    "# analysis.mean_run_tokens_over_time(['p_Ca_ER'])\n",
    "# analysis.mean_run_tokens_over_time(['p_Ca_mito'])"
   ]
  },
  {
   "cell_type": "code",
   "execution_count": null,
   "metadata": {
    "scrolled": false
   },
   "outputs": [],
   "source": [
    "#PLOTTING LEWY BODIES\n",
    "analysis.mean_run_tokens_over_time(['p_SNCA_act'])\n",
    "analysis.mean_run_tokens_over_time(['p_SNCA_inact'])\n",
    "analysis.mean_run_tokens_over_time(['p_SNCA_olig'])\n",
    "analysis.mean_run_tokens_over_time(['p_LB'])"
   ]
  },
  {
   "cell_type": "code",
   "execution_count": null,
   "metadata": {
    "scrolled": false
   },
   "outputs": [],
   "source": [
    "#PLOTTING CHOLESTEROL\n",
    "analysis.mean_run_tokens_over_time([\"p_chol_mito\", \"p_chol_LE\",\"p_chol_ER\", \"p_27OHchol_intra\", \"p_24OHchol_intra\"])\n",
    "analysis.mean_run_tokens_over_time([\"p_chol_LE\"])\n",
    "analysis.mean_run_tokens_over_time([\"p_chol_PM\"])\n",
    "analysis.mean_run_tokens_over_time([\"p_chol_ER\"])\n",
    "analysis.mean_run_tokens_over_time([\"p_ApoEchol_EE\"])\n",
    "\n",
    "analysis.mean_run_tokens_over_time([\"p_24OHchol_intra\"])\n",
    "analysis.mean_run_tokens_over_time([\"p_27OHchol_intra\"])\n",
    "analysis.mean_run_tokens_over_time([\"p_chol_mito\"])"
   ]
  },
  {
   "cell_type": "code",
   "execution_count": null,
   "metadata": {
    "scrolled": false
   },
   "outputs": [],
   "source": [
    "import numpy as np\n",
    "mean = np.mean(analysis.token_storage[:,50000:,analysis.place_dict[\"p_ROS_mito\"]])\n",
    "print(mean)"
   ]
  },
  {
   "cell_type": "code",
   "execution_count": null,
   "metadata": {},
   "outputs": [],
   "source": [
    "mean = np.mean(analysis.token_storage[:,50000:,analysis.place_dict[\"p_ADP\"]])\n",
    "print(mean)"
   ]
  },
  {
   "cell_type": "code",
   "execution_count": null,
   "metadata": {},
   "outputs": [],
   "source": [
    "mean = np.mean(analysis.token_storage[:,50000:,analysis.place_dict[\"p_ATP\"]])\n",
    "print(mean)"
   ]
  },
  {
   "cell_type": "code",
   "execution_count": null,
   "metadata": {},
   "outputs": [],
   "source": [
    "mean = np.mean(analysis.token_storage[:,50000:,analysis.place_dict[\"p_reduc_mito\"]])\n",
    "print(mean)"
   ]
  },
  {
   "cell_type": "code",
   "execution_count": null,
   "metadata": {},
   "outputs": [],
   "source": [
    "mean = np.mean(analysis.token_storage[:,50000:,analysis.place_dict[\"p_27OHchol_extra\"]])\n",
    "print(mean)"
   ]
  },
  {
   "cell_type": "code",
   "execution_count": null,
   "metadata": {},
   "outputs": [],
   "source": [
    "analysis.mean_run_tokens_over_time([\"p_24OHchol_extra\"])"
   ]
  },
  {
   "cell_type": "code",
   "execution_count": null,
   "metadata": {},
   "outputs": [],
   "source": [
    "Analysis.store_to_file(analysis,'pd_ApoEchol_2x')"
   ]
  },
  {
   "cell_type": "markdown",
   "metadata": {},
   "source": [
    "###### "
   ]
  }
 ],
 "metadata": {
  "kernelspec": {
   "display_name": "Python 3",
   "language": "python",
   "name": "python3"
  },
  "language_info": {
   "codemirror_mode": {
    "name": "ipython",
    "version": 3
   },
   "file_extension": ".py",
   "mimetype": "text/x-python",
   "name": "python",
   "nbconvert_exporter": "python",
   "pygments_lexer": "ipython3",
   "version": "3.7.3"
  }
 },
 "nbformat": 4,
 "nbformat_minor": 4
}
