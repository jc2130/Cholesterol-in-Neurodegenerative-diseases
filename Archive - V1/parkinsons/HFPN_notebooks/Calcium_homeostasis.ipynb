{
 "cells": [
  {
   "cell_type": "markdown",
   "metadata": {},
   "source": [
    "# Parkinson's Disease - Hybrid Functional Petri Net (HFPN)\n",
    "This script has implemented the following blocks of the HFPN for PD:\n",
    "- [ ] Cholesterol homeostasis\n",
    "- [x] Calcium homeotasis\n",
    "- [ ] Energy metabolism\n",
    "- [ ] Lewy bodies formation\n",
    "\n",
    "Implemented data and parameter optimisation\n",
    "- [ ] Cholesterol homeostasis\n",
    "- [x] Calcium homeotasis\n",
    "- [ ] Energy metabolism\n",
    "- [ ] Lewy bodies formation\n",
    "- [ ] ER retraction"
   ]
  },
  {
   "cell_type": "markdown",
   "metadata": {},
   "source": [
    "### Add your imports"
   ]
  },
  {
   "cell_type": "code",
   "execution_count": 1,
   "metadata": {},
   "outputs": [],
   "source": [
    "import os\n",
    "import sys\n",
    "\n",
    "# Only run this cell once to avoid confusion with directories\n",
    "# Point this to the directory where HFPN.py is relative to your working directory\n",
    "cwd = os.getcwd() # Get current working directory\n",
    "root_folder = os.sep + \"team-project\"\n",
    "# Move to 'utils' from current directory position\n",
    "sys.path.insert(0, cwd[:(cwd.index(root_folder)+len(root_folder))] + os.sep + \"utils\" + os.sep)\n",
    "\n",
    "# Import HFPN class to work with hybrid functional Petri nets\n",
    "from hfpn import HFPN\n",
    "\n",
    "sys.path.insert(0, cwd[:(cwd.index(root_folder)+len(root_folder))] + os.sep + \"parkinsons\" + os.sep)\n",
    "# Import initial token, firing conditions and rate functions\n",
    "from initial_tokens import *\n",
    "from rate_functions import *\n",
    "from firing_conditions import *\n",
    "from visualisation import Analysis"
   ]
  },
  {
   "cell_type": "markdown",
   "metadata": {},
   "source": [
    "### Initialise an empty HFPN"
   ]
  },
  {
   "cell_type": "code",
   "execution_count": 2,
   "metadata": {},
   "outputs": [],
   "source": [
    "# Initialize an empty HFPN\n",
    "pn = HFPN(time_step = 0.01) #unit = s/A.U."
   ]
  },
  {
   "cell_type": "markdown",
   "metadata": {},
   "source": [
    "## Define the places by module\n",
    "Note - if a transition links two modules, put the transition under the module that contains the input places"
   ]
  },
  {
   "cell_type": "markdown",
   "metadata": {},
   "source": [
    "### Calcium homeostasis places"
   ]
  },
  {
   "cell_type": "code",
   "execution_count": 3,
   "metadata": {},
   "outputs": [],
   "source": [
    "pn.add_place(it_p_Ca_cyto, \"p_Ca_cyto\", \"Ca - cytosole\", continuous = True)\n",
    "pn.add_place(it_p_Ca_mito, \"p_Ca_mito\",\"Ca - mitochondria\", continuous = True)\n",
    "pn.add_place(it_p_Ca_ER, \"p_Ca_ER\", \"Ca - ER\", continuous = True)\n",
    "pn.add_place(it_p_ADP, \"p_ADP\",\"ADP - Calcium ER import\", continuous = True)\n",
    "pn.add_place(it_p_ATP, \"p_ATP\",\"ATP - Calcium ER import\", continuous = True)\n",
    "\n",
    "# Discrete on/of-switches calcium pacemaking\n",
    "\n",
    "pn.add_place(1, \"p_Ca_extra\", \"on1 - Ca - extracellular\", continuous = False)\n",
    "pn.add_place(0, \"p_on2\",\"on2\", continuous = False)\n",
    "pn.add_place(0, \"p_on3\",\"on3\", continuous = False)\n",
    "pn.add_place(0, \"p_on4\",\"on4\", continuous = False)\n",
    "\n",
    "pn.add_place(it_p_LRRK2_mut, \"p_LRRK2_mut\",\"LRRK2 - mutated\", continuous = True)"
   ]
  },
  {
   "cell_type": "markdown",
   "metadata": {},
   "source": [
    "## Define the transitions by module\n",
    "Note - if a transition links two modules, put the transition under the module that contains the input places"
   ]
  },
  {
   "cell_type": "markdown",
   "metadata": {},
   "source": [
    "### Calcium homeostasis transitions"
   ]
  },
  {
   "cell_type": "code",
   "execution_count": 4,
   "metadata": {},
   "outputs": [],
   "source": [
    "pn.add_transition_with_speed_function(\n",
    "                    transition_id = 't_Ca_imp',\n",
    "                    label = 'L-type Ca channel',\n",
    "                    input_place_ids = ['p_Ca_extra'],\n",
    "                    firing_condition = fc_t_Ca_imp,\n",
    "                    reaction_speed_function = r_t_Ca_imp,\n",
    "                    consumption_coefficients = [0], # Need to review this \n",
    "                    output_place_ids = ['p_Ca_cyto'],         \n",
    "                    production_coefficients = [1]) # Need to review this \n",
    "\n",
    "# pn.add_transition_with_speed_function(\n",
    "#                     transition_id = 't_Ca_imp2',\n",
    "#                     label = 'L-type Ca channel',\n",
    "#                     input_place_ids = [],\n",
    "#                     firing_condition = lambda a: 1,\n",
    "#                     reaction_speed_function = lambda a: 1.44*1e8,\n",
    "#                     consumption_coefficients = [], # Need to review this \n",
    "#                     output_place_ids = ['p_Ca_cyto'],         \n",
    "#                     production_coefficients = [1]) # Need to review this \n",
    "\n",
    "\n",
    "pn.add_transition_with_speed_function(\n",
    "                    transition_id = 't_mCU',\n",
    "                    label = 'Ca import into mitochondria via mCU',\n",
    "                    input_place_ids = ['p_Ca_cyto','p_Ca_mito'],\n",
    "                    firing_condition = fc_t_mCU,\n",
    "                    reaction_speed_function = r_t_mCU,\n",
    "                    consumption_coefficients = [1,0], \n",
    "                    output_place_ids = ['p_Ca_mito'],         \n",
    "                    production_coefficients = [1]) \n",
    "\n",
    "pn.add_transition_with_speed_function(\n",
    "                    transition_id = 't_MAM',\n",
    "                    label = 'Ca transport from ER to mitochondria',\n",
    "                    input_place_ids = ['p_Ca_ER','p_Ca_mito'],\n",
    "                    firing_condition = fc_t_MAM,\n",
    "                    reaction_speed_function = r_t_MAM,\n",
    "                    consumption_coefficients = [1,0], \n",
    "                    output_place_ids = ['p_Ca_mito'],         \n",
    "                    production_coefficients = [1]) \n",
    "\n",
    "pn.add_transition_with_speed_function(\n",
    "                    transition_id = 't_RyR_IP3R',\n",
    "                    label = 'Ca export from ER',\n",
    "                    input_place_ids = ['p_Ca_extra','p_Ca_ER'],\n",
    "                    firing_condition = fc_t_RyR_IP3R,\n",
    "                    reaction_speed_function = r_t_RyR_IP3R,\n",
    "                    consumption_coefficients = [0,1], \n",
    "                    output_place_ids = ['p_Ca_cyto'],         \n",
    "                    production_coefficients = [1]) \n",
    "\n",
    "pn.add_transition_with_speed_function(\n",
    "                    transition_id = 't_SERCA',\n",
    "                    label = 'Ca import to ER',\n",
    "                    input_place_ids = ['p_Ca_cyto','p_ATP'],\n",
    "                    firing_condition = fc_t_SERCA,\n",
    "                    reaction_speed_function = r_t_SERCA,\n",
    "                    consumption_coefficients = [1,0], #!!!!! Need to review this 0 should be 1\n",
    "                    output_place_ids = ['p_Ca_ER','p_ADP'],         \n",
    "                    production_coefficients = [1,1]) # Need to review this\n",
    "\n",
    "pn.add_transition_with_speed_function(\n",
    "                    transition_id = 't_NCX_PMCA',\n",
    "                    label = 'Ca efflux to extracellular space',\n",
    "                    input_place_ids = ['p_Ca_cyto','p_on3'],\n",
    "                    firing_condition = lambda a: a['p_on3']==1,\n",
    "                    reaction_speed_function = r_t_NCX_PMCA,\n",
    "                    consumption_coefficients = [1,0], \n",
    "                    output_place_ids = [],         \n",
    "                    production_coefficients = [])\n",
    "pn.add_transition_with_speed_function(\n",
    "                    transition_id = 't_mNCLX',\n",
    "                    label = 'Ca export from mitochondria via mNCLX',\n",
    "                    input_place_ids = ['p_Ca_mito','p_LRRK2_mut'],\n",
    "                    firing_condition = fc_t_mNCLX,\n",
    "                    reaction_speed_function = r_t_mNCLX,\n",
    "                    consumption_coefficients = [1,0], \n",
    "                    output_place_ids = ['p_Ca_cyto'],         \n",
    "                    production_coefficients = [1]) \n",
    "\n",
    "# Discrete on/of-switches calcium pacemaking\n",
    "\n",
    "pn.add_transition_with_speed_function(\n",
    "                    transition_id = 't_A',\n",
    "                    label = 'A',\n",
    "                    input_place_ids = ['p_on4'],\n",
    "                    firing_condition = lambda a: a['p_on4']==1,\n",
    "                    reaction_speed_function = lambda a: 1,\n",
    "                    consumption_coefficients = [1], \n",
    "                    output_place_ids = ['p_Ca_extra'],         \n",
    "                    production_coefficients = [1],\n",
    "                    delay=0.5) \n",
    "pn.add_transition_with_speed_function(\n",
    "                    transition_id = 't_B',\n",
    "                    label = 'B',\n",
    "                    input_place_ids = ['p_Ca_extra'],\n",
    "                    firing_condition = lambda a: a['p_Ca_extra']==1,\n",
    "                    reaction_speed_function = lambda a: 1,\n",
    "                    consumption_coefficients = [1], \n",
    "                    output_place_ids = ['p_on2'],         \n",
    "                    production_coefficients = [1],\n",
    "                    delay=0.5) \n",
    "pn.add_transition_with_speed_function(\n",
    "                    transition_id = 't_C',\n",
    "                    label = 'C',\n",
    "                    input_place_ids = ['p_on2'],\n",
    "                    firing_condition = lambda a: a['p_on2']==1,\n",
    "                    reaction_speed_function = lambda a: 1,\n",
    "                    consumption_coefficients = [1], \n",
    "                    output_place_ids = ['p_on3'],         \n",
    "                    production_coefficients = [1],\n",
    "                    delay=0) \n",
    "pn.add_transition_with_speed_function(\n",
    "                    transition_id = 't_D',\n",
    "                    label = 'D',\n",
    "                    input_place_ids = ['p_on3'],\n",
    "                    firing_condition = lambda a: a['p_on3']==1,\n",
    "                    reaction_speed_function = lambda a: 1,\n",
    "                    consumption_coefficients = [1], \n",
    "                    output_place_ids = ['p_on4'],         \n",
    "                    production_coefficients = [1],\n",
    "                    delay=0.5)"
   ]
  },
  {
   "cell_type": "markdown",
   "metadata": {},
   "source": [
    "## Run the network and plot a time evolution of the system"
   ]
  },
  {
   "cell_type": "code",
   "execution_count": 5,
   "metadata": {},
   "outputs": [],
   "source": [
    "pn.reset_network()"
   ]
  },
  {
   "cell_type": "code",
   "execution_count": 6,
   "metadata": {},
   "outputs": [],
   "source": [
    "pn.run_many_times(number_runs=1, number_time_steps=10000) "
   ]
  },
  {
   "cell_type": "code",
   "execution_count": 7,
   "metadata": {},
   "outputs": [
    {
     "data": {
      "image/png": "[encoded data removed]",
      "text/plain": [
       "<Figure size 432x288 with 1 Axes>"
      ]
     },
     "metadata": {
      "needs_background": "light"
     },
     "output_type": "display_data"
    },
    {
     "data": {
      "image/png": "[encoded data removed]",
      "text/plain": [
       "<Figure size 432x288 with 1 Axes>"
      ]
     },
     "metadata": {
      "needs_background": "light"
     },
     "output_type": "display_data"
    }
   ],
   "source": [
    "PDanalysis = Analysis(pn)\n",
    "# output_places=['p_RTN3_PN','p_RTN3_axon']\n",
    "# output_places=['p_chol_LE']\n",
    "output_places=['p_Ca_mito','p_Ca_cyto']\n",
    "PDanalysis.mean_run_tokens_over_time(output_places)\n",
    "# output_places=['p_SNCA_act']\n",
    "# PDanalysis.mean_run_tokens_over_time(output_places)\n",
    "# output_places=['p_SNCA_inact']\n",
    "# PDanalysis.mean_run_tokens_over_time(output_places)\n",
    "# output_places=['p_SNCA_olig']\n",
    "# PDanalysis.mean_run_tokens_over_time(output_places)\n",
    "# output_places=['p_LB']\n",
    "# PDanalysis.mean_run_tokens_over_time(output_places)\n",
    "output_places=['p_Ca_ER']\n",
    "PDanalysis.mean_run_tokens_over_time(output_places)"
   ]
  },
  {
   "cell_type": "code",
   "execution_count": null,
   "metadata": {},
   "outputs": [],
   "source": []
  },
  {
   "cell_type": "code",
   "execution_count": null,
   "metadata": {},
   "outputs": [],
   "source": []
  },
  {
   "cell_type": "code",
   "execution_count": null,
   "metadata": {},
   "outputs": [],
   "source": []
  }
 ],
 "metadata": {
  "kernelspec": {
   "display_name": "Python 3",
   "language": "python",
   "name": "python3"
  },
  "language_info": {
   "codemirror_mode": {
    "name": "ipython",
    "version": 3
   },
   "file_extension": ".py",
   "mimetype": "text/x-python",
   "name": "python",
   "nbconvert_exporter": "python",
   "pygments_lexer": "ipython3",
   "version": "3.7.3"
  }
 },
 "nbformat": 4,
 "nbformat_minor": 4
}
