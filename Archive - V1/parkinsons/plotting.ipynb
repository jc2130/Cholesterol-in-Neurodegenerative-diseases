{
 "cells": [
  {
   "cell_type": "code",
   "execution_count": 1,
   "metadata": {},
   "outputs": [],
   "source": [
    "import os\n",
    "import sys\n",
    "import matplotlib.pyplot as plt\n",
    "import numpy as np\n",
    "from scipy.signal import convolve\n",
    "%matplotlib qt\n",
    "# Only run this cell once to avoid confusion with directories\n",
    "# Point this to the directory where HFPN.py is relative to your working directory\n",
    "cwd = os.getcwd() # Get current working directory\n",
    "root_folder = os.sep + \"team-project\"\n",
    "# Move to 'utils' from current directory position\n",
    "sys.path.insert(0, cwd[:(cwd.index(root_folder)+len(root_folder))] + os.sep + \"utils\" + os.sep)\n",
    "from visualisation import Analysis\n"
   ]
  },
  {
   "cell_type": "code",
   "execution_count": 2,
   "metadata": {},
   "outputs": [],
   "source": [
    "analysis = {}\n",
    "analysis['healthy'] = Analysis.load_from_file('pd_healthy_ds_smallertimestep')\n",
    "analysis['gba1'] = Analysis.load_from_file('pd_gba1_ds_smallertimestep')\n",
    "analysis['DJ1'] = Analysis.load_from_file('pd_DJ1_ds_smallertimestep')\n",
    "analysis['lrrk2'] = Analysis.load_from_file('pd_lrrk2_ds_smallertimestep')\n",
    "analysis['vps35'] = Analysis.load_from_file('pd_vps35_ds_smallertimestep')\n",
    "analysis['gba1_lrrk2'] = Analysis.load_from_file('pd_gba1_lrrk2_ds_smallertimestep')\n",
    "analysis['vps35_lrrk2'] = Analysis.load_from_file('pd_vps35_lrrk2_ds_smallertimestep')\n",
    "analysis['gba1_vps35_lrrk2'] = Analysis.load_from_file('pd_gba1_vps35_lrrk2_ds_smallertimestep')\n",
    "analysis['all_mutations'] = Analysis.load_from_file('pd_all_mutations_ds_smallertimestep')\n",
    "analysis['ApoEchol'] = Analysis.load_from_file('pd_2xApoE_ds_smallertimestep')\n",
    "analysis['27OHchol'] = Analysis.load_from_file('pd_2x27OH_ds_smallertimestep')\n",
    "analysis['ApoE_lrrk2_gba1'] = Analysis.load_from_file('pd_2xApoE_lrrk2_gba1_ds_smallertimestep')\n",
    "analysis['27OH_lrrk2_gba1'] = Analysis.load_from_file('pd_2x27OH_lrrk2_gba1_ds_smallertimestep')\n",
    "analysis['NPT'] = Analysis.load_from_file('pd_NPT_ds_smallertimestep')\n",
    "analysis['DNL'] = Analysis.load_from_file('pd_DNL_ds_smallertimestep')\n",
    "analysis['LAMP2A'] = Analysis.load_from_file('pd_LAMP2A_ds_smallertimestep')"
   ]
  },
  {
   "cell_type": "code",
   "execution_count": 3,
   "metadata": {},
   "outputs": [],
   "source": [
    "def smoothen(array, filter_size):\n",
    "    filt=np.ones(filter_size)/filter_size\n",
    "    return convolve(array[:-(filter_size-1),0],filt)\n",
    "    \n",
    "def create_plot(analysis, input_place_list, place_labels, mutation_list, mutation_labels, plot_title):\n",
    "    \n",
    "    t=np.arange(0,1000.001,0.001)\n",
    "    fig,ax=plt.subplots()\n",
    "    linestep = 0.3\n",
    "    line_width = 3\n",
    "    \n",
    "    for i, mutation in enumerate(mutation_list):\n",
    "        for place, place_label in zip(input_place_list, place_labels):\n",
    "            data = analysis[mutation].mean_token_history_for_places([place])[0:1000001]\n",
    "            if place_label == \"\":\n",
    "                ax.plot(t, data, label = mutation_labels[i], linewidth = line_width- i*linestep)\n",
    "            else:\n",
    "                ax.plot(t, data, label = mutation_labels[i]+' - '+place_label, linewidth = line_width- i*linestep)\n",
    "    \n",
    "    ax.legend()\n",
    "    Analysis.standardise_plot(ax, title = plot_title, xlabel = \"Time (s)\",ylabel = \"Molecule count\")\n",
    "    plt.show()\n",
    "\n",
    "def plot_stacked_bars(ax, legend, all_data, xs, labels, width):\n",
    "\n",
    "    cum_sum = np.zeros_like(all_data[:,0])\n",
    "    for i in range(len(labels)):\n",
    "        data = all_data[:,i]\n",
    "        rects = ax.bar(xs, data, width, bottom=cum_sum, label=labels[i])\n",
    "        cum_sum += data    \n",
    "    \n",
    "def create_bar_chart(analysis, places_a, places_a_labels, places_b, places_b_labels, mutation_list, mutation_labels, plot_title):\n",
    "#     for mutation in mutation_list:\n",
    "#         for place in places_a:\n",
    "#             print(place)\n",
    "#             print(analysis[mutation].mean_token_history_for_places(place)[-1])\n",
    "#     for mutation in mutation_list:\n",
    "#         for place in places_b:\n",
    "#             print(place)\n",
    "#             print(analysis[mutation].mean_token_history_for_places(place)[-1])\n",
    "    final_token_count_a = [[analysis[mutation].mean_token_history_for_places(place)[-1] for place in places_a] for mutation in mutation_list]\n",
    "    final_token_count_b = [[analysis[mutation].mean_token_history_for_places(place)[-1] for place in places_b] for mutation in mutation_list]\n",
    "    print(np.array(final_token_count_a).shape)\n",
    "    print(np.array(final_token_count_b).shape)\n",
    "    final_token_count_a = np.sum(final_token_count_a, 2) # remove dimension 3\n",
    "    final_token_count_b = np.sum(final_token_count_b, 2) # remove dimension 3\n",
    "\n",
    "    # normalize data\n",
    "\n",
    "    final_token_count_a = final_token_count_a / np.sum(final_token_count_a[0,:])\n",
    "    final_token_count_b = final_token_count_b / np.sum(final_token_count_b, 1)[:,None]\n",
    "\n",
    "    final_token_count_a *= 100\n",
    "    final_token_count_b *= 100\n",
    "    \n",
    "    width = 0.5\n",
    "    \n",
    "    FIGURESIZE = (14,7)\n",
    "    fig, ax = plt.subplots(1, 1, figsize=FIGURESIZE)\n",
    "\n",
    "    bar_positions_a = np.array(range(len(mutation_list)))\n",
    "    bar_positions_b = max(bar_positions_a) + 2 + np.array(range(len(mutation_list)))\n",
    "    \n",
    "    plot_stacked_bars(ax,legend=mutation_list, all_data=final_token_count_a, xs=bar_positions_a, labels=places_a_labels,width=width)\n",
    "    plot_stacked_bars(ax,legend=mutation_list, all_data=final_token_count_b, xs=bar_positions_b, labels = places_b_labels,width=width)\n",
    "\n",
    "    # Add some text for labels, title and custom x-axis tick labels, etc.\n",
    "    ax.set_ylabel('% Molecule Count', fontsize=16)\n",
    "    ax.set_title(plot_title, fontsize=18)\n",
    "    ax.set_xticks(np.concatenate((bar_positions_a, bar_positions_b)))\n",
    "    ax.set_xticklabels(np.concatenate((mutation_labels, mutation_labels)), rotation=-25, ha='left', fontsize=12)\n",
    "\n",
    "    #ax.set_ylim((0,150))\n",
    "\n",
    "    plt.legend(fontsize=14, loc='upper right', bbox_to_anchor=(1.3, 1))\n",
    "    plt.show()"
   ]
  },
  {
   "cell_type": "markdown",
   "metadata": {},
   "source": [
    "# Bar charts"
   ]
  },
  {
   "cell_type": "code",
   "execution_count": null,
   "metadata": {},
   "outputs": [],
   "source": [
    "create_bar_chart(analysis, \n",
    "                 places_a = ['p_RTN3_axon','p_RTN3_PN'], \n",
    "                 places_a_labels = ['Axon', 'Perinuclear region'], \n",
    "                 places_b = ['p_RTN3_HMW_dys1','p_RTN3_HMW_dys2','p_RTN3_HMW_lyso'], \n",
    "                 places_b_labels=['Dystrophic neurites I', 'Dystrophic_neurites II','Lyso'], \n",
    "                 mutation_list = ['healthy', 'lrrk2','gba1','vps35','DJ1','gba1_lrrk2','all_mutations','27OHchol','ApoEchol','ApoE_lrrk2_gba1','27OH_lrrk2_gba1'], \n",
    "                 mutation_labels = ['Healthy', 'LRRK2','GBA1','VPS35','D-J1','GBA1+LRRK2','Combined diseased state','2x 27OH-chol','2x APOE-chol','2x APOE-chol+LRRK2+GBA1','2x 27OH-chol+LRRK2+GBA1'],\n",
    "                 plot_title = 'PD - RTN3 distribution')\n"
   ]
  },
  {
   "cell_type": "code",
   "execution_count": null,
   "metadata": {},
   "outputs": [],
   "source": [
    "create_bar_chart(analysis, \n",
    "                 places_a = ['p_RTN3_axon','p_RTN3_PN'], \n",
    "                 places_a_labels = ['Axon', 'Perinuclear region'], \n",
    "                 places_b = ['p_RTN3_HMW_dys1','p_RTN3_HMW_dys2','p_RTN3_HMW_lyso'], \n",
    "                 places_b_labels=['Dystrophic neurites I', 'Dystrophic_neurites II','Lyso'], \n",
    "                 mutation_list = ['all_mutations', 'lrrk2', 'DNL','NPT','LAMP2A', 'healthy'], \n",
    "                 mutation_labels = ['Combined diseased state','LRRK2','LRRK2 + DNL151','Combined diseased state + NPT200','Combined diseased state + LAMP2A', 'Healthy'],\n",
    "                 plot_title = 'PD - RTN3 distribution and therapeutics')"
   ]
  },
  {
   "cell_type": "markdown",
   "metadata": {},
   "source": [
    "# Plotting"
   ]
  },
  {
   "cell_type": "markdown",
   "metadata": {},
   "source": [
    "## Energy metabolism "
   ]
  },
  {
   "cell_type": "code",
   "execution_count": 4,
   "metadata": {},
   "outputs": [],
   "source": [
    "create_plot(analysis, \n",
    "            input_place_list = ['p_cas3'], \n",
    "            place_labels = [\"\"], \n",
    "            mutation_list = ['healthy','vps35','lrrk2','gba1','DJ1','gba1_lrrk2','all_mutations'], \n",
    "            mutation_labels = ['Healthy','VPS35','LRRK2','GBA1','DJ1','GBA1 + LRRK2','Combined diseased state'],\n",
    "            plot_title = 'PD - Active Caspase-3')"
   ]
  },
  {
   "cell_type": "markdown",
   "metadata": {},
   "source": [
    "## Lewy body formation"
   ]
  },
  {
   "cell_type": "code",
   "execution_count": null,
   "metadata": {},
   "outputs": [],
   "source": [
    "create_plot(analysis, \n",
    "            input_place_list = ['p_LB'], \n",
    "            place_labels = [\"\"], \n",
    "            mutation_list = ['healthy','vps35','lrrk2','gba1','DJ1','gba1_lrrk2','all_mutations'], \n",
    "            mutation_labels = ['Healthy','VPS35','LRRK2','GBA1','DJ1','GBA1 + LRRK2','Combined diseased state'],\n",
    "            plot_title = 'PD - Lewy body formation')\n"
   ]
  },
  {
   "cell_type": "markdown",
   "metadata": {},
   "source": [
    "## Chol (LB and cas3)"
   ]
  },
  {
   "cell_type": "code",
   "execution_count": null,
   "metadata": {},
   "outputs": [],
   "source": [
    "#THE CORRECT ONE FOR CHOL\n",
    "create_plot(analysis, \n",
    "            input_place_list = ['p_LB'], \n",
    "            place_labels = [\"\"], \n",
    "            mutation_list = ['healthy','gba1_lrrk2','27OHchol','27OH_lrrk2_gba1','ApoEchol','ApoE_lrrk2_gba1'], \n",
    "            mutation_labels = ['Healthy','GBA1 + LRRK2','2x 27OH-chol','2x 27OH-chol + LRRK2 + GBA1','2x APOE-chol','2x APOE-chol + LRRK2 + GBA1'],\n",
    "            plot_title = 'PD - Lewy body formation and high levels chol')\n",
    "#THE CORRECT ONE FOR CHOL\n",
    "create_plot(analysis, \n",
    "            input_place_list = ['p_cas3'], \n",
    "            place_labels = [\"\"], \n",
    "            mutation_list = ['healthy','gba1_lrrk2','27OHchol','27OH_lrrk2_gba1','ApoEchol','ApoE_lrrk2_gba1'], \n",
    "            mutation_labels = ['Healthy','GBA1 + LRRK2','2x 27OH-chol','2x 27OH-chol + LRRK2 + GBA1','2x APOE-chol','2x APOE-chol + LRRK2 + GBA1'],\n",
    "            plot_title = 'PD - Active Caspase-3 and high levels chol')"
   ]
  },
  {
   "cell_type": "markdown",
   "metadata": {},
   "source": [
    "## Therapeutics"
   ]
  },
  {
   "cell_type": "code",
   "execution_count": null,
   "metadata": {},
   "outputs": [],
   "source": [
    "create_plot(analysis, \n",
    "            input_place_list = ['p_cas3'], \n",
    "            place_labels = [\"\"], \n",
    "            mutation_list = ['all_mutations', 'lrrk2', 'DNL','NPT','LAMP2A', 'healthy'], \n",
    "            mutation_labels = ['Combined diseased state','LRRK2','LRRK2 + DNL151','Combined diseased state + NPT200','Combined diseased state + LAMP2A', 'Healthy'],\n",
    "            plot_title = 'PD - Active Caspase-3 and therapeutics')\n",
    "# create_plot(analysis, \n",
    "#             input_place_list = ['p_SNCA_olig'], \n",
    "#             place_labels = [\"\"], \n",
    "#             mutation_list = ['all_mutations', 'lrrk2', 'DNL','NPT','LAMP2A','healthy'], \n",
    "#             mutation_labels = ['Combined diseased state','LRRK2','LRRK2 + DNL151','Combined diseased state + NPT200','Combined diseased state + LAMP2A', 'Healthy'],\n",
    "#             plot_title = 'PD - SNCA oligomerisation and therapeutics')\n",
    "create_plot(analysis, \n",
    "            input_place_list = ['p_LB'], \n",
    "            place_labels = [\"\"], \n",
    "            mutation_list = ['all_mutations', 'lrrk2', 'DNL','NPT','LAMP2A','healthy'], \n",
    "            mutation_labels = ['Combined diseased state','LRRK2','LRRK2 + DNL151','Combined diseased state + NPT200','Combined diseased state + LAMP2A', 'Healthy'],\n",
    "            plot_title = 'PD - Lewy body formation and therapeutics')"
   ]
  },
  {
   "cell_type": "markdown",
   "metadata": {},
   "source": [
    "# Computing the mean"
   ]
  },
  {
   "cell_type": "code",
   "execution_count": null,
   "metadata": {},
   "outputs": [],
   "source": [
    "mean_healthy = np.mean(analysis['healthy'].token_storage[:,50000:,analysis['healthy'].place_dict[\"p_ATP\"]])\n",
    "print(\"healthy\", mean_healthy)\n",
    "mean_lrrk2 = np.mean(analysis['lrrk2'].token_storage[:,50000:,analysis['lrrk2'].place_dict[\"p_ATP\"]])\n",
    "print(\"lrrk2\", mean_lrrk2)"
   ]
  },
  {
   "cell_type": "code",
   "execution_count": null,
   "metadata": {},
   "outputs": [],
   "source": [
    "# create_plot(['p_LB'],\"Lewy body formation\")"
   ]
  },
  {
   "cell_type": "code",
   "execution_count": null,
   "metadata": {},
   "outputs": [],
   "source": [
    "# create_plot(['p_SNCA_olig'],\"SNCA olgiomerisation\")"
   ]
  },
  {
   "cell_type": "code",
   "execution_count": null,
   "metadata": {},
   "outputs": [],
   "source": []
  },
  {
   "cell_type": "code",
   "execution_count": null,
   "metadata": {},
   "outputs": [],
   "source": [
    "create_plot(['p_chol_LE'],\"Cholesterol late endosomes\")"
   ]
  },
  {
   "cell_type": "code",
   "execution_count": null,
   "metadata": {},
   "outputs": [],
   "source": []
  }
 ],
 "metadata": {
  "kernelspec": {
   "display_name": "Python 3",
   "language": "python",
   "name": "python3"
  },
  "language_info": {
   "codemirror_mode": {
    "name": "ipython",
    "version": 3
   },
   "file_extension": ".py",
   "mimetype": "text/x-python",
   "name": "python",
   "nbconvert_exporter": "python",
   "pygments_lexer": "ipython3",
   "version": "3.7.4"
  }
 },
 "nbformat": 4,
 "nbformat_minor": 4
}
