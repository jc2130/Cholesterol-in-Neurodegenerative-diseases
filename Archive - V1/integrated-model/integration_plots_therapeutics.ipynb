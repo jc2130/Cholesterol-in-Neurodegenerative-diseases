{
 "cells": [
  {
   "cell_type": "code",
   "execution_count": 1,
   "metadata": {},
   "outputs": [],
   "source": [
    "import os\n",
    "import sys\n",
    "\n",
    "cwd = os.getcwd()\n",
    "\n",
    "root_folder = os.sep+\"team-project\"\n",
    "sys.path.insert(0, cwd[:(cwd.index(root_folder)+len(root_folder))] + os.sep+\"utils\"+os.sep)\n",
    "\n",
    "from hfpn import HFPN\n",
    "from visualisation import Analysis\n",
    "#import HFPN\n",
    "\n",
    "from validation_data import *\n",
    "from initial_tokens import *\n",
    "from rate_functions import *\n",
    "\n",
    "from datetime import datetime\n",
    "\n",
    "import matplotlib.pyplot as plt\n",
    "import numpy as np\n",
    "\n",
    "#import AD_Simulation_Definitions"
   ]
  },
  {
   "cell_type": "code",
   "execution_count": 8,
   "metadata": {},
   "outputs": [],
   "source": [
    "analysis = {}\n",
    "analysis['healthy'] = Analysis.load_from_file('integrated_healthy_1mil')\n",
    "#analysis['ApoE'] = Analysis.load_from_file('integrated_ApoE_1mil')\n",
    "#analysis['LRRK2'] = Analysis.load_from_file('integrated_LRRK2_1mil')\n",
    "analysis['NPC1'] = Analysis.load_from_file('integrated_NPC1_1mil')\n",
    "#analysis['ADandADdrug'] = Analysis.load_from_file(\"integrated_ADwithADdrug_1mil\")\n",
    "#analysis['ADandPDdrug'] = Analysis.load_from_file(\"integrated_ADwithPDdrug_1mil\")\n",
    "#analysis['ADandNPCDdrug'] = Analysis.load_from_file(\"integrated_ADwithNPCdrug_1mil\")\n",
    "#analysis['PDandADdrug'] = Analysis.load_from_file(\"integrated_PDwithADdrug_1mil\")\n",
    "#analysis['PDandPDdrug'] = Analysis.load_from_file(\"integrated_PDwithPDdrug_1mil\")\n",
    "#analysis['PDandNPCDdrug'] = Analysis.load_from_file(\"integrated_PDwithNPCdrug_1mil\")\n",
    "analysis['NPCDandADdrug'] = Analysis.load_from_file(\"integrated_NPCDwithADdrug_1mil\")\n",
    "analysis['NPCDandPDdrug'] = Analysis.load_from_file(\"integrated_NPCDwithPDdrug_1mil\")\n",
    "analysis['NPCDandNPCDdrug'] = Analysis.load_from_file(\"integrated_NPCDwithNPCdrug_1mil\")"
   ]
  },
  {
   "cell_type": "code",
   "execution_count": 3,
   "metadata": {},
   "outputs": [],
   "source": [
    "FIGURESIZE = (8,6)"
   ]
  },
  {
   "cell_type": "code",
   "execution_count": 13,
   "metadata": {},
   "outputs": [],
   "source": [
    "def create_plot(analysis, input_place_list, place_labels, mutation_list, mutation_labels, plot_title, log = False):\n",
    "    \n",
    "    t=np.arange(0,1000.001,0.001)\n",
    "    fig,ax=plt.subplots(figsize = FIGURESIZE)\n",
    "    linestep = 0.4\n",
    "    line_width = 3\n",
    "    \n",
    "    for i, mutation in enumerate(mutation_list):\n",
    "        for place, place_label in zip(input_place_list, place_labels):\n",
    "            data = analysis[mutation].mean_token_history_for_places([place])[0:1000001]\n",
    "            if place_label == \"\" and i>=2:\n",
    "                ax.plot(t, data, label = mutation_labels[i], linewidth = line_width- i*linestep)\n",
    "            elif place_label == \"\":\n",
    "                ax.plot(t, data, label = mutation_labels[i], linewidth = line_width- i*linestep)    \n",
    "            else:\n",
    "                ax.plot(t, data, label = mutation_labels[i]+' - '+place_label, linewidth = line_width- i*linestep)\n",
    "    \n",
    "    ax.legend()\n",
    "    Analysis.standardise_plot(ax, title = plot_title, xlabel = \"Time (s)\",ylabel = \"Molecule count\")\n",
    "    \n",
    "    if log:\n",
    "        ax.set_yscale('log')\n",
    "        ax.set_yticks([100000,1000000])\n",
    "        \n",
    "    plt.tight_layout() \n",
    "    plt.show()\n",
    "    "
   ]
  },
  {
   "cell_type": "markdown",
   "metadata": {},
   "source": [
    "### AD diseased state"
   ]
  },
  {
   "cell_type": "code",
   "execution_count": null,
   "metadata": {},
   "outputs": [],
   "source": [
    "create_plot(analysis, \n",
    "            input_place_list = ['p_Ab'], \n",
    "            place_labels = [\"\"], \n",
    "            mutation_list = ['healthy','ApoE','ADandADdrug','ADandPDdrug','ADandNPCDdrug'], \n",
    "            mutation_labels = ['Healthy','ApoE','ApoE, AD therapeutic','ApoE, PD therapeutic','ApoE, NPCD therapeutic'],\n",
    "            plot_title = r\"Integrated model therapeutics - Amyloid-$\\beta$ peptide\",\n",
    "            log = True)\n",
    "create_plot(analysis, \n",
    "            input_place_list = ['p_cas3'], \n",
    "            place_labels = [\"\"], \n",
    "            mutation_list = ['healthy','ApoE','ADandADdrug','ADandPDdrug','ADandNPCDdrug'], \n",
    "            mutation_labels = ['Healthy','ApoE','ApoE, AD therapeutic','ApoE, PD therapeutic','ApoE, NPCD therapeutic'],\n",
    "            plot_title = \"Integrated model therapeutics - Active Caspase-3\",\n",
    "            log = False)"
   ]
  },
  {
   "cell_type": "markdown",
   "metadata": {},
   "source": [
    "### PD diseased state"
   ]
  },
  {
   "cell_type": "code",
   "execution_count": null,
   "metadata": {},
   "outputs": [],
   "source": [
    "create_plot(analysis, \n",
    "            input_place_list = ['p_LB'], \n",
    "            place_labels = [\"\"], \n",
    "            mutation_list = ['healthy','LRRK2','PDandADdrug','PDandPDdrug','PDandNPCDdrug'], \n",
    "            mutation_labels = ['Healthy','LRRK2','LRRK2, AD therapeutic','LRRK2, PD therapeutic','LRRK2, NPCD therapeutic'],\n",
    "            plot_title = \"Integrated model therapeutics - Lewy bodies\",\n",
    "            log = False)\n",
    "create_plot(analysis, \n",
    "            input_place_list = ['p_cas3'], \n",
    "            place_labels = [\"\"], \n",
    "            mutation_list = ['healthy','LRRK2','PDandADdrug','PDandPDdrug','PDandNPCDdrug'], \n",
    "            mutation_labels = ['Healthy','LRRK2','LRRK2, AD therapeutic','LRRK2, PD therapeutic','LRRK2, NPCD therapeutic'],\n",
    "            plot_title = \"Integrated model therapeutics - Active Caspase-3\",\n",
    "            log = False)"
   ]
  },
  {
   "cell_type": "markdown",
   "metadata": {},
   "source": [
    "### NPCD diseased state"
   ]
  },
  {
   "cell_type": "code",
   "execution_count": 14,
   "metadata": {},
   "outputs": [
    {
     "data": {
      "image/png": "[encoded data removed]",
      "text/plain": [
       "<Figure size 576x432 with 1 Axes>"
      ]
     },
     "metadata": {
      "needs_background": "light"
     },
     "output_type": "display_data"
    }
   ],
   "source": [
    "create_plot(analysis, \n",
    "            input_place_list = ['p_chol_LE'], \n",
    "            place_labels = [\"\"], \n",
    "            mutation_list = ['healthy','NPC1','NPCDandADdrug','NPCDandPDdrug','NPCDandNPCDdrug'], \n",
    "            mutation_labels = ['Healthy','NPC1','NPC1, AD therapeutic','NPC1, PD therapeutic','NPC1, NPCD therapeutic'],\n",
    "            plot_title = \"Integrated model therapeutics - Cholesterol (LE)\",\n",
    "            log = False)\n",
    "#create_plot(analysis, \n",
    "#            input_place_list = ['p_cas3'], \n",
    "#            place_labels = [\"\"], \n",
    "#            mutation_list = ['healthy','NPC1','NPCDandADdrug','NPCDandPDdrug','NPCDandNPCDdrug'], \n",
    "#            mutation_labels = ['Healthy','NPC1','NPC1, AD therapeutic','NPC1, PD therapeutic','NPC1, NPCD therapeutic'],\n",
    "#            plot_title = \"Integrated model therapeutics - Active Caspase-3\",\n",
    "#           log = False)"
   ]
  },
  {
   "cell_type": "code",
   "execution_count": null,
   "metadata": {},
   "outputs": [],
   "source": []
  }
 ],
 "metadata": {
  "kernelspec": {
   "display_name": "Python 3",
   "language": "python",
   "name": "python3"
  },
  "language_info": {
   "codemirror_mode": {
    "name": "ipython",
    "version": 3
   },
   "file_extension": ".py",
   "mimetype": "text/x-python",
   "name": "python",
   "nbconvert_exporter": "python",
   "pygments_lexer": "ipython3",
   "version": "3.7.8"
  }
 },
 "nbformat": 4,
 "nbformat_minor": 2
}
