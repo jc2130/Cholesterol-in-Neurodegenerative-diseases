{
 "cells": [
  {
   "cell_type": "code",
   "execution_count": null,
   "metadata": {},
   "outputs": [],
   "source": [
    "import os\n",
    "import sys\n",
    "\n",
    "cwd = os.getcwd()\n",
    "\n",
    "root_folder = os.sep+\"team-project\"\n",
    "sys.path.insert(0, cwd[:(cwd.index(root_folder)+len(root_folder))] + os.sep+\"utils\"+os.sep)\n",
    "\n",
    "from hfpn import HFPN\n",
    "from visualisation import Analysis\n",
    "import integrated_HFPN\n",
    "from datetime import datetime\n",
    "\n",
    "from validation_data import *\n",
    "from initial_tokens import *"
   ]
  },
  {
   "cell_type": "code",
   "execution_count": null,
   "metadata": {
    "scrolled": true
   },
   "outputs": [],
   "source": [
    "# Confgure and import sub-networks\n",
    "pn = HFPN(time_step=0.001) # time_step in s\n",
    "\n",
    "integrated_HFPN.add_integrated_cholesterol_homeostasis(pn)\n",
    "integrated_HFPN.add_integrated_lewy_body_pathology(pn)\n",
    "integrated_HFPN.add_integrated_tau_pathology(pn)\n",
    "integrated_HFPN.add_integrated_abeta_pathology(pn)\n",
    "integrated_HFPN.add_integrated_ER_retraction_collapse(pn)\n",
    "integrated_HFPN.add_integrated_energy_metabolism(pn)\n",
    "integrated_HFPN.add_integrated_calcium_homeostasis(pn)\n",
    "#integrated_HFPN.add_therapeutics(pn)\n",
    "\n",
    "# set diseased condition\n",
    "# mutations\n",
    "# AD\n",
    "#pn.set_initial_tokens_for('p_ApoE', 1)\n",
    "\n",
    "# PD\n",
    "#pn.set_initial_tokens_for('p_GBA1', 1)\n",
    "#pn.set_initial_tokens_for('p_ABCGA1', 1)\n",
    "#pn.set_initial_tokens_for('p_LRRK2_mut', 1)\n",
    "#pn.set_initial_tokens_for('p_VPS35', 1)\n",
    "#pn.set_initial_tokens_for('p_DJ1', 1)\n",
    "\n",
    "# NPCD\n",
    "pn.set_initial_tokens_for('p_NPC1_LE', npcd_p_NPC1_LE)\n",
    "#pn.set_initial_tokens_for('p_NAC', 1e7) #BNPC1 therapeutic\n",
    "\n",
    "# Other\n",
    "#pn.set_initial_tokens_for('p_age', 1)\n",
    "#pn.set_initial_tokens_for('p_ApoEchol_extra', it_p_ApoEchol_extra*2)\n",
    "# 27OH-chol endocyto rate has to be set manually\n",
    "\n",
    "# Run network and plot result\n",
    "start_time = datetime.now()\n",
    "pn.run_many_times(1, int(1e6))\n",
    "execution_time = datetime.now() - start_time\n",
    "\n",
    "print('\\n\\nTime to execute:', execution_time)"
   ]
  },
  {
   "cell_type": "code",
   "execution_count": null,
   "metadata": {
    "scrolled": true
   },
   "outputs": [],
   "source": [
    "analysis = Analysis(pn)\n",
    "for place_id in pn.places.keys(): \n",
    "    analysis.mean_run_tokens_over_time(place_id)"
   ]
  },
  {
   "cell_type": "code",
   "execution_count": null,
   "metadata": {},
   "outputs": [],
   "source": [
    "analysis.mean_run_tokens_over_time(\"p_Ab\")\n",
    "analysis.mean_run_tokens_over_time([\"p_tau\", \"p_tauP\"])\n",
    "analysis.mean_run_tokens_over_time([\"p_ATP\", \"p_ADP\"])\n",
    "analysis.mean_run_tokens_over_time(\"p_cas3\")\n",
    "analysis.mean_run_tokens_over_time(\"p_ROS_mito\")"
   ]
  },
  {
   "cell_type": "code",
   "execution_count": null,
   "metadata": {},
   "outputs": [],
   "source": [
    "Analysis.store_to_file(analysis, 'integrated_NPCDwithADdrug_1mil')"
   ]
  }
 ],
 "metadata": {
  "kernelspec": {
   "display_name": "Python 3",
   "language": "python",
   "name": "python3"
  },
  "language_info": {
   "codemirror_mode": {
    "name": "ipython",
    "version": 3
   },
   "file_extension": ".py",
   "mimetype": "text/x-python",
   "name": "python",
   "nbconvert_exporter": "python",
   "pygments_lexer": "ipython3",
   "version": "3.7.6"
  }
 },
 "nbformat": 4,
 "nbformat_minor": 2
}
